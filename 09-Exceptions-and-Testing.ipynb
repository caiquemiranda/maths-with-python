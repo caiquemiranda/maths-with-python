{
 "cells": [
  {
   "cell_type": "markdown",
   "metadata": {},
   "source": [
    "### Exceptions"
   ]
  },
  {
   "cell_type": "code",
   "execution_count": 1,
   "metadata": {},
   "outputs": [],
   "source": [
    "from __future__ import division"
   ]
  },
  {
   "cell_type": "code",
   "execution_count": 2,
   "metadata": {},
   "outputs": [],
   "source": [
    "def divide(numerator, denominator):\n",
    "    \n",
    "    \"\"\"\n",
    "    Divide two numbers.\n",
    "    Parameters\n",
    "    ----------\n",
    "    numerator: float\n",
    "    numerator\n",
    "    denominator: float\n",
    "    denominator\n",
    "    Returns\n",
    "    -------\n",
    "    fraction: float\n",
    "    numerator / denominator\n",
    "    \"\"\"\n",
    "    \n",
    "    return numerator / denominator"
   ]
  },
  {
   "cell_type": "code",
   "execution_count": 3,
   "metadata": {},
   "outputs": [
    {
     "name": "stdout",
     "output_type": "stream",
     "text": [
      "0.8\n"
     ]
    }
   ],
   "source": [
    "print(divide(4.0, 5.0))"
   ]
  },
  {
   "cell_type": "code",
   "execution_count": 4,
   "metadata": {},
   "outputs": [
    {
     "ename": "ZeroDivisionError",
     "evalue": "float division by zero",
     "output_type": "error",
     "traceback": [
      "\u001b[1;31m---------------------------------------------------------------------------\u001b[0m",
      "\u001b[1;31mZeroDivisionError\u001b[0m                         Traceback (most recent call last)",
      "\u001b[1;32md:\\GIT-repository\\github-maths-with-python\\maths-with-python\\09-Exceptions-and-Testing.ipynb Célula: 5\u001b[0m in \u001b[0;36m<cell line: 1>\u001b[1;34m()\u001b[0m\n\u001b[1;32m----> <a href='vscode-notebook-cell:/d%3A/GIT-repository/github-maths-with-python/maths-with-python/09-Exceptions-and-Testing.ipynb#X22sZmlsZQ%3D%3D?line=0'>1</a>\u001b[0m \u001b[39mprint\u001b[39m(divide(\u001b[39m4.0\u001b[39;49m, \u001b[39m0.0\u001b[39;49m))\n",
      "\u001b[1;32md:\\GIT-repository\\github-maths-with-python\\maths-with-python\\09-Exceptions-and-Testing.ipynb Célula: 5\u001b[0m in \u001b[0;36mdivide\u001b[1;34m(numerator, denominator)\u001b[0m\n\u001b[0;32m      <a href='vscode-notebook-cell:/d%3A/GIT-repository/github-maths-with-python/maths-with-python/09-Exceptions-and-Testing.ipynb#X22sZmlsZQ%3D%3D?line=0'>1</a>\u001b[0m \u001b[39mdef\u001b[39;00m \u001b[39mdivide\u001b[39m(numerator, denominator):\n\u001b[0;32m      <a href='vscode-notebook-cell:/d%3A/GIT-repository/github-maths-with-python/maths-with-python/09-Exceptions-and-Testing.ipynb#X22sZmlsZQ%3D%3D?line=2'>3</a>\u001b[0m     \u001b[39m\"\"\"\u001b[39;00m\n\u001b[0;32m      <a href='vscode-notebook-cell:/d%3A/GIT-repository/github-maths-with-python/maths-with-python/09-Exceptions-and-Testing.ipynb#X22sZmlsZQ%3D%3D?line=3'>4</a>\u001b[0m \u001b[39m    Divide two numbers.\u001b[39;00m\n\u001b[0;32m      <a href='vscode-notebook-cell:/d%3A/GIT-repository/github-maths-with-python/maths-with-python/09-Exceptions-and-Testing.ipynb#X22sZmlsZQ%3D%3D?line=4'>5</a>\u001b[0m \u001b[39m    Parameters\u001b[39;00m\n\u001b[1;32m   (...)\u001b[0m\n\u001b[0;32m     <a href='vscode-notebook-cell:/d%3A/GIT-repository/github-maths-with-python/maths-with-python/09-Exceptions-and-Testing.ipynb#X22sZmlsZQ%3D%3D?line=13'>14</a>\u001b[0m \u001b[39m    numerator / denominator\u001b[39;00m\n\u001b[0;32m     <a href='vscode-notebook-cell:/d%3A/GIT-repository/github-maths-with-python/maths-with-python/09-Exceptions-and-Testing.ipynb#X22sZmlsZQ%3D%3D?line=14'>15</a>\u001b[0m \u001b[39m    \"\"\"\u001b[39;00m\n\u001b[1;32m---> <a href='vscode-notebook-cell:/d%3A/GIT-repository/github-maths-with-python/maths-with-python/09-Exceptions-and-Testing.ipynb#X22sZmlsZQ%3D%3D?line=16'>17</a>\u001b[0m     \u001b[39mreturn\u001b[39;00m numerator \u001b[39m/\u001b[39;49m denominator\n",
      "\u001b[1;31mZeroDivisionError\u001b[0m: float division by zero"
     ]
    }
   ],
   "source": [
    "print(divide(4.0, 0.0))"
   ]
  },
  {
   "cell_type": "code",
   "execution_count": 5,
   "metadata": {},
   "outputs": [
    {
     "name": "stdout",
     "output_type": "stream",
     "text": [
      "4.0\n"
     ]
    },
    {
     "ename": "ZeroDivisionError",
     "evalue": "float division by zero",
     "output_type": "error",
     "traceback": [
      "\u001b[1;31m---------------------------------------------------------------------------\u001b[0m",
      "\u001b[1;31mZeroDivisionError\u001b[0m                         Traceback (most recent call last)",
      "\u001b[1;32md:\\GIT-repository\\github-maths-with-python\\maths-with-python\\09-Exceptions-and-Testing.ipynb Célula: 6\u001b[0m in \u001b[0;36m<cell line: 3>\u001b[1;34m()\u001b[0m\n\u001b[0;32m      <a href='vscode-notebook-cell:/d%3A/GIT-repository/github-maths-with-python/maths-with-python/09-Exceptions-and-Testing.ipynb#X21sZmlsZQ%3D%3D?line=0'>1</a>\u001b[0m denominators \u001b[39m=\u001b[39m [\u001b[39m1.0\u001b[39m, \u001b[39m0.0\u001b[39m, \u001b[39m3.0\u001b[39m, \u001b[39m5.0\u001b[39m]\n\u001b[0;32m      <a href='vscode-notebook-cell:/d%3A/GIT-repository/github-maths-with-python/maths-with-python/09-Exceptions-and-Testing.ipynb#X21sZmlsZQ%3D%3D?line=2'>3</a>\u001b[0m \u001b[39mfor\u001b[39;00m denominator \u001b[39min\u001b[39;00m denominators:\n\u001b[1;32m----> <a href='vscode-notebook-cell:/d%3A/GIT-repository/github-maths-with-python/maths-with-python/09-Exceptions-and-Testing.ipynb#X21sZmlsZQ%3D%3D?line=3'>4</a>\u001b[0m     \u001b[39mprint\u001b[39m(divide(\u001b[39m4.0\u001b[39;49m, denominator))\n",
      "\u001b[1;32md:\\GIT-repository\\github-maths-with-python\\maths-with-python\\09-Exceptions-and-Testing.ipynb Célula: 6\u001b[0m in \u001b[0;36mdivide\u001b[1;34m(numerator, denominator)\u001b[0m\n\u001b[0;32m      <a href='vscode-notebook-cell:/d%3A/GIT-repository/github-maths-with-python/maths-with-python/09-Exceptions-and-Testing.ipynb#X21sZmlsZQ%3D%3D?line=0'>1</a>\u001b[0m \u001b[39mdef\u001b[39;00m \u001b[39mdivide\u001b[39m(numerator, denominator):\n\u001b[0;32m      <a href='vscode-notebook-cell:/d%3A/GIT-repository/github-maths-with-python/maths-with-python/09-Exceptions-and-Testing.ipynb#X21sZmlsZQ%3D%3D?line=2'>3</a>\u001b[0m     \u001b[39m\"\"\"\u001b[39;00m\n\u001b[0;32m      <a href='vscode-notebook-cell:/d%3A/GIT-repository/github-maths-with-python/maths-with-python/09-Exceptions-and-Testing.ipynb#X21sZmlsZQ%3D%3D?line=3'>4</a>\u001b[0m \u001b[39m    Divide two numbers.\u001b[39;00m\n\u001b[0;32m      <a href='vscode-notebook-cell:/d%3A/GIT-repository/github-maths-with-python/maths-with-python/09-Exceptions-and-Testing.ipynb#X21sZmlsZQ%3D%3D?line=4'>5</a>\u001b[0m \u001b[39m    Parameters\u001b[39;00m\n\u001b[1;32m   (...)\u001b[0m\n\u001b[0;32m     <a href='vscode-notebook-cell:/d%3A/GIT-repository/github-maths-with-python/maths-with-python/09-Exceptions-and-Testing.ipynb#X21sZmlsZQ%3D%3D?line=13'>14</a>\u001b[0m \u001b[39m    numerator / denominator\u001b[39;00m\n\u001b[0;32m     <a href='vscode-notebook-cell:/d%3A/GIT-repository/github-maths-with-python/maths-with-python/09-Exceptions-and-Testing.ipynb#X21sZmlsZQ%3D%3D?line=14'>15</a>\u001b[0m \u001b[39m    \"\"\"\u001b[39;00m\n\u001b[1;32m---> <a href='vscode-notebook-cell:/d%3A/GIT-repository/github-maths-with-python/maths-with-python/09-Exceptions-and-Testing.ipynb#X21sZmlsZQ%3D%3D?line=16'>17</a>\u001b[0m     \u001b[39mreturn\u001b[39;00m numerator \u001b[39m/\u001b[39;49m denominator\n",
      "\u001b[1;31mZeroDivisionError\u001b[0m: float division by zero"
     ]
    }
   ],
   "source": [
    "denominators = [1.0, 0.0, 3.0, 5.0]\n",
    "\n",
    "for denominator in denominators:\n",
    "    print(divide(4.0, denominator))"
   ]
  },
  {
   "cell_type": "code",
   "execution_count": 6,
   "metadata": {},
   "outputs": [
    {
     "name": "stdout",
     "output_type": "stream",
     "text": [
      "Dividing by zero is a silly thing to do!\n"
     ]
    }
   ],
   "source": [
    "try:\n",
    "    print(divide(4.0, 0.0))\n",
    "except ZeroDivisionError:\n",
    "    print(\"Dividing by zero is a silly thing to do!\")"
   ]
  },
  {
   "cell_type": "code",
   "execution_count": 7,
   "metadata": {},
   "outputs": [
    {
     "name": "stdout",
     "output_type": "stream",
     "text": [
      "4.0\n",
      "Dividing by zero is a silly thing to do!\n",
      "1.3333333333333333\n",
      "0.8\n"
     ]
    }
   ],
   "source": [
    "denominators = [1.0, 0.0, 3.0, 5.0]\n",
    "\n",
    "for denominator in denominators:\n",
    "    try:\n",
    "        print(divide(4.0, denominator))\n",
    "        \n",
    "    except ZeroDivisionError:\n",
    "        print(\"Dividing by zero is a silly thing to do!\")"
   ]
  },
  {
   "cell_type": "code",
   "execution_count": 8,
   "metadata": {},
   "outputs": [
    {
     "ename": "TypeError",
     "evalue": "unsupported operand type(s) for /: 'float' and 'str'",
     "output_type": "error",
     "traceback": [
      "\u001b[1;31m---------------------------------------------------------------------------\u001b[0m",
      "\u001b[1;31mTypeError\u001b[0m                                 Traceback (most recent call last)",
      "\u001b[1;32md:\\GIT-repository\\github-maths-with-python\\maths-with-python\\09-Exceptions-and-Testing.ipynb Célula: 9\u001b[0m in \u001b[0;36m<cell line: 1>\u001b[1;34m()\u001b[0m\n\u001b[0;32m      <a href='vscode-notebook-cell:/d%3A/GIT-repository/github-maths-with-python/maths-with-python/09-Exceptions-and-Testing.ipynb#X15sZmlsZQ%3D%3D?line=0'>1</a>\u001b[0m \u001b[39mtry\u001b[39;00m:\n\u001b[1;32m----> <a href='vscode-notebook-cell:/d%3A/GIT-repository/github-maths-with-python/maths-with-python/09-Exceptions-and-Testing.ipynb#X15sZmlsZQ%3D%3D?line=1'>2</a>\u001b[0m     \u001b[39mprint\u001b[39m(divide(\u001b[39m4.0\u001b[39;49m, \u001b[39m\"\u001b[39;49m\u001b[39mzero\u001b[39;49m\u001b[39m\"\u001b[39;49m))\n\u001b[0;32m      <a href='vscode-notebook-cell:/d%3A/GIT-repository/github-maths-with-python/maths-with-python/09-Exceptions-and-Testing.ipynb#X15sZmlsZQ%3D%3D?line=2'>3</a>\u001b[0m \u001b[39mexcept\u001b[39;00m \u001b[39mZeroDivisionError\u001b[39;00m:\n\u001b[0;32m      <a href='vscode-notebook-cell:/d%3A/GIT-repository/github-maths-with-python/maths-with-python/09-Exceptions-and-Testing.ipynb#X15sZmlsZQ%3D%3D?line=3'>4</a>\u001b[0m     \u001b[39mprint\u001b[39m(\u001b[39m\"\u001b[39m\u001b[39mDividing by zero is a silly thing to do!\u001b[39m\u001b[39m\"\u001b[39m)\n",
      "\u001b[1;32md:\\GIT-repository\\github-maths-with-python\\maths-with-python\\09-Exceptions-and-Testing.ipynb Célula: 9\u001b[0m in \u001b[0;36mdivide\u001b[1;34m(numerator, denominator)\u001b[0m\n\u001b[0;32m      <a href='vscode-notebook-cell:/d%3A/GIT-repository/github-maths-with-python/maths-with-python/09-Exceptions-and-Testing.ipynb#X15sZmlsZQ%3D%3D?line=0'>1</a>\u001b[0m \u001b[39mdef\u001b[39;00m \u001b[39mdivide\u001b[39m(numerator, denominator):\n\u001b[0;32m      <a href='vscode-notebook-cell:/d%3A/GIT-repository/github-maths-with-python/maths-with-python/09-Exceptions-and-Testing.ipynb#X15sZmlsZQ%3D%3D?line=2'>3</a>\u001b[0m     \u001b[39m\"\"\"\u001b[39;00m\n\u001b[0;32m      <a href='vscode-notebook-cell:/d%3A/GIT-repository/github-maths-with-python/maths-with-python/09-Exceptions-and-Testing.ipynb#X15sZmlsZQ%3D%3D?line=3'>4</a>\u001b[0m \u001b[39m    Divide two numbers.\u001b[39;00m\n\u001b[0;32m      <a href='vscode-notebook-cell:/d%3A/GIT-repository/github-maths-with-python/maths-with-python/09-Exceptions-and-Testing.ipynb#X15sZmlsZQ%3D%3D?line=4'>5</a>\u001b[0m \u001b[39m    Parameters\u001b[39;00m\n\u001b[1;32m   (...)\u001b[0m\n\u001b[0;32m     <a href='vscode-notebook-cell:/d%3A/GIT-repository/github-maths-with-python/maths-with-python/09-Exceptions-and-Testing.ipynb#X15sZmlsZQ%3D%3D?line=13'>14</a>\u001b[0m \u001b[39m    numerator / denominator\u001b[39;00m\n\u001b[0;32m     <a href='vscode-notebook-cell:/d%3A/GIT-repository/github-maths-with-python/maths-with-python/09-Exceptions-and-Testing.ipynb#X15sZmlsZQ%3D%3D?line=14'>15</a>\u001b[0m \u001b[39m    \"\"\"\u001b[39;00m\n\u001b[1;32m---> <a href='vscode-notebook-cell:/d%3A/GIT-repository/github-maths-with-python/maths-with-python/09-Exceptions-and-Testing.ipynb#X15sZmlsZQ%3D%3D?line=16'>17</a>\u001b[0m     \u001b[39mreturn\u001b[39;00m numerator \u001b[39m/\u001b[39;49m denominator\n",
      "\u001b[1;31mTypeError\u001b[0m: unsupported operand type(s) for /: 'float' and 'str'"
     ]
    }
   ],
   "source": [
    "try:\n",
    "    print(divide(4.0, \"zero\"))\n",
    "except ZeroDivisionError:\n",
    "    print(\"Dividing by zero is a silly thing to do!\")"
   ]
  },
  {
   "cell_type": "code",
   "execution_count": 9,
   "metadata": {},
   "outputs": [
    {
     "name": "stdout",
     "output_type": "stream",
     "text": [
      "Dividing by a string is a silly thing to do!\n"
     ]
    }
   ],
   "source": [
    "try:\n",
    "    print(divide(4.0, \"zero\"))\n",
    "    \n",
    "except ZeroDivisionError:\n",
    "    print(\"Dividing by zero is a silly thing to do!\")\n",
    "    \n",
    "except TypeError:\n",
    "    print(\"Dividing by a string is a silly thing to do!\")"
   ]
  },
  {
   "cell_type": "code",
   "execution_count": 10,
   "metadata": {},
   "outputs": [
    {
     "name": "stdout",
     "output_type": "stream",
     "text": [
      "Some error occured\n"
     ]
    }
   ],
   "source": [
    "try:\n",
    "    print(divide(4.0, \"zero\"))\n",
    "except:\n",
    "    print(\"Some error occured\")"
   ]
  },
  {
   "cell_type": "code",
   "execution_count": 11,
   "metadata": {},
   "outputs": [
    {
     "name": "stdout",
     "output_type": "stream",
     "text": [
      "Some error occured: unsupported operand type(s) for /: 'float' and 'str'\n"
     ]
    }
   ],
   "source": [
    "try:\n",
    "    print(divide(4.0, \"zero\"))\n",
    "except (ZeroDivisionError, TypeError) as exception:\n",
    "    print(\"Some error occured: {}\".format(exception))"
   ]
  },
  {
   "cell_type": "code",
   "execution_count": 12,
   "metadata": {},
   "outputs": [
    {
     "name": "stdout",
     "output_type": "stream",
     "text": [
      "Error of type float division by zero for denominator 0.0\n",
      "Error of type unsupported operand type(s) for /: 'float' and 'str' for denominator zero\n",
      "[4.0, 1.3333333333333333, 0.8]\n",
      "[1.0, 3.0, 5.0]\n"
     ]
    }
   ],
   "source": [
    "denominators = [1.0, 0.0, 3.0, \"zero\", 5.0]\n",
    "results = []\n",
    "divisors = []\n",
    "\n",
    "for denominator in denominators:\n",
    "    try:\n",
    "        result = divide(4.0, denominator)\n",
    "        \n",
    "    except (ZeroDivisionError, TypeError) as exception:\n",
    "        print(\"Error of type {} for denominator {}\".format(exception, denominator))\n",
    "\n",
    "    else:\n",
    "        results.append(result)\n",
    "        divisors.append(denominator)\n",
    "        \n",
    "        \n",
    "print(results)\n",
    "print(divisors)"
   ]
  },
  {
   "cell_type": "markdown",
   "metadata": {},
   "source": [
    "##### Exceptions in your own code"
   ]
  },
  {
   "cell_type": "code",
   "execution_count": 15,
   "metadata": {},
   "outputs": [],
   "source": [
    "def divide_sum(numerator, denominator1, denominator2):\n",
    "    \"\"\"\n",
    "    Divide a number by a sum.\n",
    "    \n",
    "    Parameters\n",
    "    ----------\n",
    "    \n",
    "    numerator: float\n",
    "        numerator\n",
    "    denominator1: float\n",
    "        Part of the denominator\n",
    "    denominator2: float\n",
    "        Part of the denominator\n",
    "    Returns\n",
    "    -------\n",
    "    fraction: float\n",
    "    numerator / (denominator1 + denominator2)\n",
    "    \"\"\"\n",
    "    \n",
    "    return numerator / (denominator1 + denominator2)"
   ]
  },
  {
   "cell_type": "code",
   "execution_count": 16,
   "metadata": {},
   "outputs": [
    {
     "ename": "ZeroDivisionError",
     "evalue": "division by zero",
     "output_type": "error",
     "traceback": [
      "\u001b[1;31m---------------------------------------------------------------------------\u001b[0m",
      "\u001b[1;31mZeroDivisionError\u001b[0m                         Traceback (most recent call last)",
      "\u001b[1;32md:\\GIT-repository\\github-maths-with-python\\maths-with-python\\09-Exceptions-and-Testing.ipynb Célula: 16\u001b[0m in \u001b[0;36m<cell line: 1>\u001b[1;34m()\u001b[0m\n\u001b[1;32m----> <a href='vscode-notebook-cell:/d%3A/GIT-repository/github-maths-with-python/maths-with-python/09-Exceptions-and-Testing.ipynb#X34sZmlsZQ%3D%3D?line=0'>1</a>\u001b[0m divide_sum(\u001b[39m1\u001b[39;49m, \u001b[39m1\u001b[39;49m, \u001b[39m-\u001b[39;49m\u001b[39m1\u001b[39;49m)\n",
      "\u001b[1;32md:\\GIT-repository\\github-maths-with-python\\maths-with-python\\09-Exceptions-and-Testing.ipynb Célula: 16\u001b[0m in \u001b[0;36mdivide_sum\u001b[1;34m(numerator, denominator1, denominator2)\u001b[0m\n\u001b[0;32m      <a href='vscode-notebook-cell:/d%3A/GIT-repository/github-maths-with-python/maths-with-python/09-Exceptions-and-Testing.ipynb#X34sZmlsZQ%3D%3D?line=0'>1</a>\u001b[0m \u001b[39mdef\u001b[39;00m \u001b[39mdivide_sum\u001b[39m(numerator, denominator1, denominator2):\n\u001b[0;32m      <a href='vscode-notebook-cell:/d%3A/GIT-repository/github-maths-with-python/maths-with-python/09-Exceptions-and-Testing.ipynb#X34sZmlsZQ%3D%3D?line=1'>2</a>\u001b[0m     \u001b[39m\"\"\"\u001b[39;00m\n\u001b[0;32m      <a href='vscode-notebook-cell:/d%3A/GIT-repository/github-maths-with-python/maths-with-python/09-Exceptions-and-Testing.ipynb#X34sZmlsZQ%3D%3D?line=2'>3</a>\u001b[0m \u001b[39m    Divide a number by a sum.\u001b[39;00m\n\u001b[0;32m      <a href='vscode-notebook-cell:/d%3A/GIT-repository/github-maths-with-python/maths-with-python/09-Exceptions-and-Testing.ipynb#X34sZmlsZQ%3D%3D?line=3'>4</a>\u001b[0m \u001b[39m    \u001b[39;00m\n\u001b[1;32m   (...)\u001b[0m\n\u001b[0;32m     <a href='vscode-notebook-cell:/d%3A/GIT-repository/github-maths-with-python/maths-with-python/09-Exceptions-and-Testing.ipynb#X34sZmlsZQ%3D%3D?line=16'>17</a>\u001b[0m \u001b[39m    numerator / (denominator1 + denominator2)\u001b[39;00m\n\u001b[0;32m     <a href='vscode-notebook-cell:/d%3A/GIT-repository/github-maths-with-python/maths-with-python/09-Exceptions-and-Testing.ipynb#X34sZmlsZQ%3D%3D?line=17'>18</a>\u001b[0m \u001b[39m    \"\"\"\u001b[39;00m\n\u001b[1;32m---> <a href='vscode-notebook-cell:/d%3A/GIT-repository/github-maths-with-python/maths-with-python/09-Exceptions-and-Testing.ipynb#X34sZmlsZQ%3D%3D?line=19'>20</a>\u001b[0m     \u001b[39mreturn\u001b[39;00m numerator \u001b[39m/\u001b[39;49m (denominator1 \u001b[39m+\u001b[39;49m denominator2)\n",
      "\u001b[1;31mZeroDivisionError\u001b[0m: division by zero"
     ]
    }
   ],
   "source": [
    "divide_sum(1, 1, -1)"
   ]
  },
  {
   "cell_type": "code",
   "execution_count": 17,
   "metadata": {},
   "outputs": [],
   "source": [
    "def divide_sum(numerator, denominator1, denominator2):\n",
    "    \"\"\"\n",
    "    Divide a number by a sum.\n",
    "    Parameters\n",
    "    ----------\n",
    "    numerator: float\n",
    "    numerator\n",
    "    denominator1: float\n",
    "    Part of the denominator\n",
    "    denominator2: float\n",
    "    Part of the denominator\n",
    "    Returns\n",
    "    -------\n",
    "    fraction: float\n",
    "    numerator / (denominator1 + denominator2)\n",
    "    \"\"\"\n",
    "    \n",
    "    if (denominator1 + denominator2) == 0:\n",
    "        raise ZeroDivisionError(\"The sum of denominator1 and denominator2 is zero!\")\n",
    "\n",
    "    return numerator / (denominator1 + denominator2)"
   ]
  },
  {
   "cell_type": "code",
   "execution_count": 18,
   "metadata": {},
   "outputs": [
    {
     "ename": "ZeroDivisionError",
     "evalue": "The sum of denominator1 and denominator2 is zero!",
     "output_type": "error",
     "traceback": [
      "\u001b[1;31m---------------------------------------------------------------------------\u001b[0m",
      "\u001b[1;31mZeroDivisionError\u001b[0m                         Traceback (most recent call last)",
      "\u001b[1;32md:\\GIT-repository\\github-maths-with-python\\maths-with-python\\09-Exceptions-and-Testing.ipynb Célula: 18\u001b[0m in \u001b[0;36m<cell line: 1>\u001b[1;34m()\u001b[0m\n\u001b[1;32m----> <a href='vscode-notebook-cell:/d%3A/GIT-repository/github-maths-with-python/maths-with-python/09-Exceptions-and-Testing.ipynb#X40sZmlsZQ%3D%3D?line=0'>1</a>\u001b[0m divide_sum(\u001b[39m1\u001b[39;49m, \u001b[39m1\u001b[39;49m, \u001b[39m-\u001b[39;49m\u001b[39m1\u001b[39;49m)\n",
      "\u001b[1;32md:\\GIT-repository\\github-maths-with-python\\maths-with-python\\09-Exceptions-and-Testing.ipynb Célula: 18\u001b[0m in \u001b[0;36mdivide_sum\u001b[1;34m(numerator, denominator1, denominator2)\u001b[0m\n\u001b[0;32m      <a href='vscode-notebook-cell:/d%3A/GIT-repository/github-maths-with-python/maths-with-python/09-Exceptions-and-Testing.ipynb#X40sZmlsZQ%3D%3D?line=1'>2</a>\u001b[0m \u001b[39m\"\"\"\u001b[39;00m\n\u001b[0;32m      <a href='vscode-notebook-cell:/d%3A/GIT-repository/github-maths-with-python/maths-with-python/09-Exceptions-and-Testing.ipynb#X40sZmlsZQ%3D%3D?line=2'>3</a>\u001b[0m \u001b[39mDivide a number by a sum.\u001b[39;00m\n\u001b[0;32m      <a href='vscode-notebook-cell:/d%3A/GIT-repository/github-maths-with-python/maths-with-python/09-Exceptions-and-Testing.ipynb#X40sZmlsZQ%3D%3D?line=3'>4</a>\u001b[0m \u001b[39mParameters\u001b[39;00m\n\u001b[1;32m   (...)\u001b[0m\n\u001b[0;32m     <a href='vscode-notebook-cell:/d%3A/GIT-repository/github-maths-with-python/maths-with-python/09-Exceptions-and-Testing.ipynb#X40sZmlsZQ%3D%3D?line=14'>15</a>\u001b[0m \u001b[39mnumerator / (denominator1 + denominator2)\u001b[39;00m\n\u001b[0;32m     <a href='vscode-notebook-cell:/d%3A/GIT-repository/github-maths-with-python/maths-with-python/09-Exceptions-and-Testing.ipynb#X40sZmlsZQ%3D%3D?line=15'>16</a>\u001b[0m \u001b[39m\"\"\"\u001b[39;00m\n\u001b[0;32m     <a href='vscode-notebook-cell:/d%3A/GIT-repository/github-maths-with-python/maths-with-python/09-Exceptions-and-Testing.ipynb#X40sZmlsZQ%3D%3D?line=17'>18</a>\u001b[0m \u001b[39mif\u001b[39;00m (denominator1 \u001b[39m+\u001b[39m denominator2) \u001b[39m==\u001b[39m \u001b[39m0\u001b[39m:\n\u001b[1;32m---> <a href='vscode-notebook-cell:/d%3A/GIT-repository/github-maths-with-python/maths-with-python/09-Exceptions-and-Testing.ipynb#X40sZmlsZQ%3D%3D?line=18'>19</a>\u001b[0m     \u001b[39mraise\u001b[39;00m \u001b[39mZeroDivisionError\u001b[39;00m(\u001b[39m\"\u001b[39m\u001b[39mThe sum of denominator1 and denominator2 is zero!\u001b[39m\u001b[39m\"\u001b[39m)\n\u001b[0;32m     <a href='vscode-notebook-cell:/d%3A/GIT-repository/github-maths-with-python/maths-with-python/09-Exceptions-and-Testing.ipynb#X40sZmlsZQ%3D%3D?line=20'>21</a>\u001b[0m \u001b[39mreturn\u001b[39;00m numerator \u001b[39m/\u001b[39m (denominator1 \u001b[39m+\u001b[39m denominator2)\n",
      "\u001b[1;31mZeroDivisionError\u001b[0m: The sum of denominator1 and denominator2 is zero!"
     ]
    }
   ],
   "source": [
    "divide_sum(1, 1, -1)"
   ]
  },
  {
   "cell_type": "code",
   "execution_count": 19,
   "metadata": {},
   "outputs": [],
   "source": [
    "from math import sqrt"
   ]
  },
  {
   "cell_type": "code",
   "execution_count": 20,
   "metadata": {},
   "outputs": [],
   "source": [
    "def real_quadratic_roots(a, b, c):\n",
    "    \"\"\"\n",
    "    Find the real roots of the quadratic equation a x^2 + b x + c = 0, if they exist.\n",
    "    \n",
    "    Parameters\n",
    "    ----------\n",
    "    \n",
    "    a : float\n",
    "        Coefficient of x^2\n",
    "    b : float\n",
    "        Coefficient of x^1\n",
    "    c : float\n",
    "        Coefficient of x^0\n",
    "    \n",
    "    Returns\n",
    "    -------\n",
    "    roots : tuple\n",
    "        The roots\n",
    "    \n",
    "    Raises\n",
    "    ------\n",
    "    NotImplementedError\n",
    "        If the roots are not real.\n",
    "    \"\"\"\n",
    "    \n",
    "    discriminant = b**2 - 4.0*a*c\n",
    "    if discriminant < 0.0:\n",
    "        raise NotImplementedError(\"The discriminant is {} < 0. \"\n",
    "                                  \"No real roots exist.\".format(discriminant))\n",
    "        \n",
    "    x_plus = (-b + sqrt(discriminant)) / (2.0*a)\n",
    "    \n",
    "    x_minus = (-b - sqrt(discriminant)) / (2.0*a)\n",
    "        \n",
    "    return x_plus, x_minus    "
   ]
  },
  {
   "cell_type": "code",
   "execution_count": 21,
   "metadata": {},
   "outputs": [
    {
     "name": "stdout",
     "output_type": "stream",
     "text": [
      "(-2.0, -3.0)\n"
     ]
    }
   ],
   "source": [
    "print(real_quadratic_roots(1.0, 5.0, 6.0))"
   ]
  },
  {
   "cell_type": "code",
   "execution_count": 22,
   "metadata": {},
   "outputs": [
    {
     "ename": "NotImplementedError",
     "evalue": "The discriminant is -19.0 < 0. No real roots exist.",
     "output_type": "error",
     "traceback": [
      "\u001b[1;31m---------------------------------------------------------------------------\u001b[0m",
      "\u001b[1;31mNotImplementedError\u001b[0m                       Traceback (most recent call last)",
      "\u001b[1;32md:\\GIT-repository\\github-maths-with-python\\maths-with-python\\09-Exceptions-and-Testing.ipynb Célula: 22\u001b[0m in \u001b[0;36m<cell line: 1>\u001b[1;34m()\u001b[0m\n\u001b[1;32m----> <a href='vscode-notebook-cell:/d%3A/GIT-repository/github-maths-with-python/maths-with-python/09-Exceptions-and-Testing.ipynb#X42sZmlsZQ%3D%3D?line=0'>1</a>\u001b[0m real_quadratic_roots(\u001b[39m1.0\u001b[39;49m, \u001b[39m1.0\u001b[39;49m, \u001b[39m5.0\u001b[39;49m)\n",
      "\u001b[1;32md:\\GIT-repository\\github-maths-with-python\\maths-with-python\\09-Exceptions-and-Testing.ipynb Célula: 22\u001b[0m in \u001b[0;36mreal_quadratic_roots\u001b[1;34m(a, b, c)\u001b[0m\n\u001b[0;32m     <a href='vscode-notebook-cell:/d%3A/GIT-repository/github-maths-with-python/maths-with-python/09-Exceptions-and-Testing.ipynb#X42sZmlsZQ%3D%3D?line=25'>26</a>\u001b[0m discriminant \u001b[39m=\u001b[39m b\u001b[39m*\u001b[39m\u001b[39m*\u001b[39m\u001b[39m2\u001b[39m \u001b[39m-\u001b[39m \u001b[39m4.0\u001b[39m\u001b[39m*\u001b[39ma\u001b[39m*\u001b[39mc\n\u001b[0;32m     <a href='vscode-notebook-cell:/d%3A/GIT-repository/github-maths-with-python/maths-with-python/09-Exceptions-and-Testing.ipynb#X42sZmlsZQ%3D%3D?line=26'>27</a>\u001b[0m \u001b[39mif\u001b[39;00m discriminant \u001b[39m<\u001b[39m \u001b[39m0.0\u001b[39m:\n\u001b[1;32m---> <a href='vscode-notebook-cell:/d%3A/GIT-repository/github-maths-with-python/maths-with-python/09-Exceptions-and-Testing.ipynb#X42sZmlsZQ%3D%3D?line=27'>28</a>\u001b[0m     \u001b[39mraise\u001b[39;00m \u001b[39mNotImplementedError\u001b[39;00m(\u001b[39m\"\u001b[39m\u001b[39mThe discriminant is \u001b[39m\u001b[39m{}\u001b[39;00m\u001b[39m < 0. \u001b[39m\u001b[39m\"\u001b[39m\n\u001b[0;32m     <a href='vscode-notebook-cell:/d%3A/GIT-repository/github-maths-with-python/maths-with-python/09-Exceptions-and-Testing.ipynb#X42sZmlsZQ%3D%3D?line=28'>29</a>\u001b[0m                               \u001b[39m\"\u001b[39m\u001b[39mNo real roots exist.\u001b[39m\u001b[39m\"\u001b[39m\u001b[39m.\u001b[39mformat(discriminant))\n\u001b[0;32m     <a href='vscode-notebook-cell:/d%3A/GIT-repository/github-maths-with-python/maths-with-python/09-Exceptions-and-Testing.ipynb#X42sZmlsZQ%3D%3D?line=30'>31</a>\u001b[0m x_plus \u001b[39m=\u001b[39m (\u001b[39m-\u001b[39mb \u001b[39m+\u001b[39m sqrt(discriminant)) \u001b[39m/\u001b[39m (\u001b[39m2.0\u001b[39m\u001b[39m*\u001b[39ma)\n\u001b[0;32m     <a href='vscode-notebook-cell:/d%3A/GIT-repository/github-maths-with-python/maths-with-python/09-Exceptions-and-Testing.ipynb#X42sZmlsZQ%3D%3D?line=32'>33</a>\u001b[0m x_minus \u001b[39m=\u001b[39m (\u001b[39m-\u001b[39mb \u001b[39m-\u001b[39m sqrt(discriminant)) \u001b[39m/\u001b[39m (\u001b[39m2.0\u001b[39m\u001b[39m*\u001b[39ma)\n",
      "\u001b[1;31mNotImplementedError\u001b[0m: The discriminant is -19.0 < 0. No real roots exist."
     ]
    }
   ],
   "source": [
    "real_quadratic_roots(1.0, 1.0, 5.0)"
   ]
  },
  {
   "cell_type": "markdown",
   "metadata": {},
   "source": [
    "### Testing"
   ]
  },
  {
   "cell_type": "code",
   "execution_count": null,
   "metadata": {},
   "outputs": [],
   "source": [
    "from math import sqrt"
   ]
  },
  {
   "cell_type": "code",
   "execution_count": null,
   "metadata": {},
   "outputs": [],
   "source": []
  },
  {
   "cell_type": "code",
   "execution_count": null,
   "metadata": {},
   "outputs": [],
   "source": []
  },
  {
   "cell_type": "code",
   "execution_count": null,
   "metadata": {},
   "outputs": [],
   "source": []
  },
  {
   "cell_type": "code",
   "execution_count": null,
   "metadata": {},
   "outputs": [],
   "source": []
  },
  {
   "cell_type": "code",
   "execution_count": null,
   "metadata": {},
   "outputs": [],
   "source": []
  },
  {
   "cell_type": "code",
   "execution_count": null,
   "metadata": {},
   "outputs": [],
   "source": []
  },
  {
   "cell_type": "markdown",
   "metadata": {},
   "source": [
    "### End."
   ]
  }
 ],
 "metadata": {
  "kernelspec": {
   "display_name": "Python 3.10.5 64-bit",
   "language": "python",
   "name": "python3"
  },
  "language_info": {
   "codemirror_mode": {
    "name": "ipython",
    "version": 3
   },
   "file_extension": ".py",
   "mimetype": "text/x-python",
   "name": "python",
   "nbconvert_exporter": "python",
   "pygments_lexer": "ipython3",
   "version": "3.10.5"
  },
  "orig_nbformat": 4,
  "vscode": {
   "interpreter": {
    "hash": "74af3d2f25f1e46ebd2903d59225d79e4675ec224d56c01fc30cd168c2010d53"
   }
  }
 },
 "nbformat": 4,
 "nbformat_minor": 2
}
