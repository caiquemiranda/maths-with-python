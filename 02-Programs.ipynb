{
 "cells": [
  {
   "cell_type": "markdown",
   "metadata": {},
   "source": [
    "### Programs"
   ]
  },
  {
   "cell_type": "code",
   "execution_count": 1,
   "metadata": {},
   "outputs": [],
   "source": [
    "import math\n",
    "x = math.sin(1.2)"
   ]
  },
  {
   "cell_type": "code",
   "execution_count": 2,
   "metadata": {},
   "outputs": [
    {
     "name": "stdout",
     "output_type": "stream",
     "text": [
      "0.9320390859672263\n"
     ]
    }
   ],
   "source": [
    "print(x)"
   ]
  },
  {
   "cell_type": "markdown",
   "metadata": {},
   "source": [
    "### Using programms and modules"
   ]
  },
  {
   "cell_type": "code",
   "execution_count": 3,
   "metadata": {},
   "outputs": [],
   "source": [
    "# import lab1_basic\n",
    "# print(lab1_basic.x)"
   ]
  },
  {
   "cell_type": "code",
   "execution_count": 4,
   "metadata": {},
   "outputs": [
    {
     "data": {
      "text/plain": [
       "0.9320390859672263"
      ]
     },
     "execution_count": 4,
     "metadata": {},
     "output_type": "execute_result"
    }
   ],
   "source": [
    "# runfile('/Users/ih3/PythonLabs/lab1_import.py', wdir='/Users/ih3/PythonLabs')\n",
    "\n",
    "0.9320390859672263"
   ]
  },
  {
   "cell_type": "markdown",
   "metadata": {},
   "source": [
    "### Functions"
   ]
  },
  {
   "cell_type": "code",
   "execution_count": 5,
   "metadata": {},
   "outputs": [],
   "source": [
    "from math import pi\n",
    "theta_d = 30.0\n",
    "theta_r = pi / 180.0 * theta_d"
   ]
  },
  {
   "cell_type": "code",
   "execution_count": 6,
   "metadata": {},
   "outputs": [
    {
     "name": "stdout",
     "output_type": "stream",
     "text": [
      "0.5235987755982988\n"
     ]
    }
   ],
   "source": [
    "print(theta_r)"
   ]
  },
  {
   "cell_type": "code",
   "execution_count": 7,
   "metadata": {},
   "outputs": [],
   "source": [
    "from math import pi\n",
    "\n",
    "def degrees_to_radians(theta_d):\n",
    "    \"\"\"\n",
    "    Convert an angle from degrees to radians.\n",
    "    \n",
    "    Parameters\n",
    "    ----------\n",
    "    \n",
    "    theta_d : float\n",
    "        The angle in degrees.\n",
    "    Returns\n",
    "    -------\n",
    "    \n",
    "    theta_r : float\n",
    "        The angle in radians.\n",
    "    \"\"\"\n",
    "    theta_r = pi / 180.0 * theta_d\n",
    "    \n",
    "    return theta_r"
   ]
  },
  {
   "cell_type": "code",
   "execution_count": 8,
   "metadata": {},
   "outputs": [
    {
     "name": "stdout",
     "output_type": "stream",
     "text": [
      "0.5235987755982988\n",
      "1.0471975511965976\n",
      "1.5707963267948966\n"
     ]
    }
   ],
   "source": [
    "print(degrees_to_radians(30.0))\n",
    "print(degrees_to_radians(60.0))\n",
    "print(degrees_to_radians(90.0))"
   ]
  },
  {
   "cell_type": "code",
   "execution_count": 9,
   "metadata": {},
   "outputs": [],
   "source": [
    "# def degrees_to_radians(theta_d):"
   ]
  },
  {
   "cell_type": "code",
   "execution_count": 10,
   "metadata": {},
   "outputs": [
    {
     "data": {
      "text/plain": [
       "'\\nConvert an angle from degrees to radians.\\n...\\n'"
      ]
     },
     "execution_count": 10,
     "metadata": {},
     "output_type": "execute_result"
    }
   ],
   "source": [
    "\"\"\"\n",
    "Convert an angle from degrees to radians.\n",
    "...\n",
    "\"\"\""
   ]
  },
  {
   "cell_type": "code",
   "execution_count": 11,
   "metadata": {},
   "outputs": [
    {
     "name": "stdout",
     "output_type": "stream",
     "text": [
      "Help on function degrees_to_radians in module __main__:\n",
      "\n",
      "degrees_to_radians(theta_d)\n",
      "    Convert an angle from degrees to radians.\n",
      "    \n",
      "    Parameters\n",
      "    ----------\n",
      "    \n",
      "    theta_d : float\n",
      "        The angle in degrees.\n",
      "    Returns\n",
      "    -------\n",
      "    \n",
      "    theta_r : float\n",
      "        The angle in radians.\n",
      "\n"
     ]
    }
   ],
   "source": [
    "help(degrees_to_radians)"
   ]
  },
  {
   "cell_type": "code",
   "execution_count": 12,
   "metadata": {},
   "outputs": [
    {
     "name": "stdout",
     "output_type": "stream",
     "text": [
      "Help on built-in function sin in module math:\n",
      "\n",
      "sin(x, /)\n",
      "    Return the sine of x (measured in radians).\n",
      "\n"
     ]
    }
   ],
   "source": [
    "help(math.sin)"
   ]
  },
  {
   "cell_type": "code",
   "execution_count": 13,
   "metadata": {},
   "outputs": [],
   "source": [
    "from math import pi\n",
    "theta_d = 30.0\n",
    "theta_r = pi / 180.0 * theta_d"
   ]
  },
  {
   "cell_type": "code",
   "execution_count": 15,
   "metadata": {},
   "outputs": [
    {
     "name": "stdout",
     "output_type": "stream",
     "text": [
      "0.5235987755982988\n"
     ]
    }
   ],
   "source": [
    "theta_r = pi / 180.0 * theta_d\n",
    "print(theta_r)"
   ]
  },
  {
   "cell_type": "code",
   "execution_count": 16,
   "metadata": {},
   "outputs": [],
   "source": [
    "from math import pi"
   ]
  },
  {
   "cell_type": "code",
   "execution_count": 17,
   "metadata": {},
   "outputs": [],
   "source": [
    "%reset -f"
   ]
  },
  {
   "cell_type": "code",
   "execution_count": 18,
   "metadata": {},
   "outputs": [],
   "source": [
    "from math import pi\n",
    "\n",
    "def degrees_to_radians(theta_d):\n",
    "    \"\"\"\n",
    "    Convert an angle from degrees to radians.\n",
    "    \n",
    "    Parameters\n",
    "    ----------\n",
    "    theta_d : float\n",
    "        The angle in degrees.\n",
    "    \n",
    "    Returns\n",
    "    -------\n",
    "    \n",
    "    theta_r : float\n",
    "        The angle in radians.\n",
    "    \"\"\"\n",
    "\n",
    "    theta_r = pi / 180.0 * theta_d\n",
    "    \n",
    "    return theta_r"
   ]
  },
  {
   "cell_type": "code",
   "execution_count": 19,
   "metadata": {},
   "outputs": [
    {
     "name": "stdout",
     "output_type": "stream",
     "text": [
      "0.7853981633974483\n"
     ]
    }
   ],
   "source": [
    "angle = degrees_to_radians(45.0)\n",
    "print(angle)"
   ]
  },
  {
   "cell_type": "code",
   "execution_count": null,
   "metadata": {},
   "outputs": [],
   "source": [
    "theta_d"
   ]
  },
  {
   "cell_type": "code",
   "execution_count": 24,
   "metadata": {},
   "outputs": [
    {
     "name": "stdout",
     "output_type": "stream",
     "text": [
      "1.1\n",
      "1.1\n"
     ]
    }
   ],
   "source": [
    "x1 = 1.1\n",
    "\n",
    "def print_x1():\n",
    "    print(x1)\n",
    "\n",
    "print(x1)\n",
    "print_x1()"
   ]
  },
  {
   "cell_type": "code",
   "execution_count": 25,
   "metadata": {},
   "outputs": [
    {
     "name": "stdout",
     "output_type": "stream",
     "text": [
      "1.2\n",
      "2.3\n"
     ]
    }
   ],
   "source": [
    "x2 = 1.2\n",
    "\n",
    "def print_x2():\n",
    "    x2 = 2.3\n",
    "    print(x2)\n",
    "\n",
    "print(x2)\n",
    "print_x2()"
   ]
  },
  {
   "cell_type": "code",
   "execution_count": null,
   "metadata": {},
   "outputs": [],
   "source": [
    "x3 = 1.3\n",
    "\n",
    "def print_x3():\n",
    "    print(x3)\n",
    "    x3 = 2.4\n",
    "\n",
    "print(x3)\n",
    "print_x3()"
   ]
  },
  {
   "cell_type": "code",
   "execution_count": 27,
   "metadata": {},
   "outputs": [],
   "source": [
    "from math import sqrt\n",
    "\n",
    "def drop_time(height, speed, gravity):\n",
    "    \"\"\"\n",
    "    Return how long it takes an object released from a height h,\n",
    "    in a gravitational field of strength g, with initial vertical speed v,\n",
    "    to hit the ground.\n",
    "    \n",
    "    Parameters\n",
    "    ----------\n",
    "    \n",
    "    height : float\n",
    "        Initial height h\n",
    "    \n",
    "    speed : float\n",
    "        Initial vertical speed v\n",
    "    \n",
    "    gravity : float\n",
    "        Gravitional field strength g\n",
    "\n",
    "    Returns\n",
    "    -------\n",
    "    \n",
    "    t : float\n",
    "        Time the object hits the ground\n",
    "    \"\"\"\n",
    "    \n",
    "    return (speed + sqrt(speed**2 + 2.0*height*gravity)) / gravity"
   ]
  },
  {
   "cell_type": "code",
   "execution_count": 28,
   "metadata": {},
   "outputs": [
    {
     "name": "stdout",
     "output_type": "stream",
     "text": [
      "1.4285714285714284\n",
      "1.5342519232263467\n",
      "4.362804694292706\n"
     ]
    }
   ],
   "source": [
    "print(drop_time(10.0, 0.0, 9.8))\n",
    "print(drop_time(10.0, 1.0, 9.8))\n",
    "print(drop_time(100.0, 9.8, 15.0))"
   ]
  },
  {
   "cell_type": "code",
   "execution_count": 29,
   "metadata": {},
   "outputs": [
    {
     "name": "stdout",
     "output_type": "stream",
     "text": [
      "1.4285714285714284\n"
     ]
    }
   ],
   "source": [
    "print(drop_time(height=10.0, speed=0.0, gravity=9.8))"
   ]
  },
  {
   "cell_type": "code",
   "execution_count": 30,
   "metadata": {},
   "outputs": [
    {
     "name": "stdout",
     "output_type": "stream",
     "text": [
      "6.300406486742956\n"
     ]
    }
   ],
   "source": [
    "print(drop_time(height=100.0, gravity=9.8, speed=15.0))"
   ]
  },
  {
   "cell_type": "code",
   "execution_count": 31,
   "metadata": {},
   "outputs": [],
   "source": [
    "def drop_time(height, speed, gravity=9.8):\n",
    "    \"\"\"\n",
    "    Return how long it takes an object released from a height h,\n",
    "    in a gravitational field of strength g, with initial vertical speed v,\n",
    "    to hit the ground.\n",
    "    26 Chapter 3. Programs\n",
    "    Maths with Python Documentation, Release 1.0\n",
    "\n",
    "    Parameters\n",
    "    ----------\n",
    "    \n",
    "    height : float\n",
    "        Initial height h\n",
    "    \n",
    "    speed : float\n",
    "        Initial vertical speed v\n",
    "    \n",
    "    gravity : float\n",
    "        Gravitional field strength g\n",
    "    \n",
    "    Returns\n",
    "    -------\n",
    "    \n",
    "    t : float\n",
    "    Time the object hits the ground\n",
    "    \"\"\"\n",
    "    \n",
    "    return (speed + sqrt(speed**2 + 2.0*height*gravity)) / gravity"
   ]
  },
  {
   "cell_type": "code",
   "execution_count": 32,
   "metadata": {},
   "outputs": [
    {
     "name": "stdout",
     "output_type": "stream",
     "text": [
      "1.4285714285714284\n",
      "3.2980530129318018\n",
      "2.649516083708069\n"
     ]
    }
   ],
   "source": [
    "print(drop_time(10.0, 0.0))\n",
    "print(drop_time(height=50.0, speed=1.0))\n",
    "print(drop_time(gravity=15.0, height=50.0, speed=1.0))"
   ]
  },
  {
   "cell_type": "markdown",
   "metadata": {},
   "source": [
    "### Printing and strings"
   ]
  },
  {
   "cell_type": "code",
   "execution_count": 33,
   "metadata": {},
   "outputs": [],
   "source": [
    "import math\n",
    "x = 1.2\n",
    "name = \"Alice\""
   ]
  },
  {
   "cell_type": "markdown",
   "metadata": {},
   "source": [
    "### Putting it together"
   ]
  },
  {
   "cell_type": "code",
   "execution_count": 34,
   "metadata": {},
   "outputs": [
    {
     "name": "stdout",
     "output_type": "stream",
     "text": [
      "Hello\n",
      "6\n",
      "Alice\n",
      "1.2\n",
      "3.141592653589793\n",
      "0.9320390859672263\n",
      "<built-in function sin>\n",
      "<module 'math' (built-in)>\n"
     ]
    }
   ],
   "source": [
    "print(\"Hello\")\n",
    "print(6)\n",
    "print(name)\n",
    "print(x)\n",
    "print(math.pi)\n",
    "print(math.sin(x))\n",
    "print(math.sin)\n",
    "print(math)"
   ]
  },
  {
   "cell_type": "code",
   "execution_count": 35,
   "metadata": {},
   "outputs": [
    {
     "name": "stdout",
     "output_type": "stream",
     "text": [
      "Hello Alice. We set x=1.2.\n"
     ]
    }
   ],
   "source": [
    "print(\"Hello {}. We set x={}.\".format(name, x))"
   ]
  },
  {
   "cell_type": "code",
   "execution_count": 36,
   "metadata": {},
   "outputs": [
    {
     "name": "stdout",
     "output_type": "stream",
     "text": [
      "The function <built-in function sin> applied to x=1.2 gives 0.9320390859672263\n"
     ]
    }
   ],
   "source": [
    "print (\"The function {} applied to x={} gives {}\".format(math.sin, x, math.sin(x)))"
   ]
  },
  {
   "cell_type": "code",
   "execution_count": 37,
   "metadata": {},
   "outputs": [
    {
     "name": "stdout",
     "output_type": "stream",
     "text": [
      "ALICE\n",
      "alice\n",
      "False\n",
      "True\n",
      "a b c d e\n",
      "['a', 'b', 'c', 'd', 'e']\n"
     ]
    }
   ],
   "source": [
    "name = \"Alice\"\n",
    "number = \"13\"\n",
    "sentence = \" a b c d e \"\n",
    "\n",
    "print(name.upper())\n",
    "print(name.lower())\n",
    "print(name.isdigit())\n",
    "print(number.isdigit())\n",
    "print(sentence.strip())\n",
    "print(sentence.split())"
   ]
  },
  {
   "cell_type": "code",
   "execution_count": 38,
   "metadata": {},
   "outputs": [
    {
     "name": "stdout",
     "output_type": "stream",
     "text": [
      "HelloAlice\n"
     ]
    }
   ],
   "source": [
    "print(\"Hello\" + \"Alice\")"
   ]
  },
  {
   "cell_type": "code",
   "execution_count": 39,
   "metadata": {},
   "outputs": [
    {
     "name": "stdout",
     "output_type": "stream",
     "text": [
      "HelloHelloHello\n"
     ]
    }
   ],
   "source": [
    "print(\"Hello\" * 3)"
   ]
  },
  {
   "cell_type": "code",
   "execution_count": 40,
   "metadata": {},
   "outputs": [
    {
     "name": "stdout",
     "output_type": "stream",
     "text": [
      "3.4\n"
     ]
    }
   ],
   "source": [
    "print(str(3.4))"
   ]
  },
  {
   "cell_type": "code",
   "execution_count": 41,
   "metadata": {},
   "outputs": [
    {
     "name": "stdout",
     "output_type": "stream",
     "text": [
      "H\n",
      "l\n",
      "el\n"
     ]
    }
   ],
   "source": [
    "print(\"Hello\"[0])\n",
    "print(\"Hello\"[2])\n",
    "print(\"Hello\"[1:3])"
   ]
  },
  {
   "cell_type": "code",
   "execution_count": 42,
   "metadata": {},
   "outputs": [],
   "source": [
    "from math import pi\n",
    "\n",
    "def degrees_to_radians(theta_d):\n",
    "    \"\"\"\n",
    "    Convert an angle from degrees to radians.\n",
    "    \n",
    "    Parameters\n",
    "    ----------\n",
    "    \n",
    "    theta_d : float\n",
    "        The angle in degrees.\n",
    "    \n",
    "    Returns\n",
    "    -------\n",
    "    \n",
    "    theta_r : float\n",
    "        The angle in radians.\n",
    "    \"\"\"\n",
    "    theta_r = pi / 180.0 * theta_d\n",
    "    return theta_r"
   ]
  },
  {
   "cell_type": "code",
   "execution_count": 43,
   "metadata": {},
   "outputs": [
    {
     "name": "stdout",
     "output_type": "stream",
     "text": [
      "0.2617993877991494\n",
      "0.5235987755982988\n",
      "0.7853981633974483\n",
      "1.0471975511965976\n",
      "1.3089969389957472\n",
      "1.5707963267948966\n"
     ]
    }
   ],
   "source": [
    "# from lab1_function import degrees_to_radians\n",
    "\n",
    "print(degrees_to_radians(15.0))\n",
    "print(degrees_to_radians(30.0))\n",
    "print(degrees_to_radians(45.0))\n",
    "print(degrees_to_radians(60.0))\n",
    "print(degrees_to_radians(75.0))\n",
    "print(degrees_to_radians(90.0))"
   ]
  },
  {
   "cell_type": "markdown",
   "metadata": {},
   "source": [
    "### Exercise: basic functions"
   ]
  },
  {
   "cell_type": "code",
   "execution_count": null,
   "metadata": {},
   "outputs": [],
   "source": []
  },
  {
   "cell_type": "markdown",
   "metadata": {},
   "source": [
    "### Exercise: Floating point numbers"
   ]
  },
  {
   "cell_type": "code",
   "execution_count": null,
   "metadata": {},
   "outputs": [],
   "source": []
  },
  {
   "cell_type": "code",
   "execution_count": 44,
   "metadata": {},
   "outputs": [
    {
     "name": "stdout",
     "output_type": "stream",
     "text": [
      "Author: Caique Miranda\n",
      "\n",
      "Github username: caiquemiranda\n",
      "\n"
     ]
    }
   ],
   "source": [
    "%reload_ext watermark\n",
    "%watermark -a \"Caique Miranda\" -gu \"caiquemiranda\" -i"
   ]
  },
  {
   "cell_type": "markdown",
   "metadata": {},
   "source": [
    "### End."
   ]
  }
 ],
 "metadata": {
  "kernelspec": {
   "display_name": "Python 3.10.5 64-bit",
   "language": "python",
   "name": "python3"
  },
  "language_info": {
   "codemirror_mode": {
    "name": "ipython",
    "version": 3
   },
   "file_extension": ".py",
   "mimetype": "text/x-python",
   "name": "python",
   "nbconvert_exporter": "python",
   "pygments_lexer": "ipython3",
   "version": "3.10.5"
  },
  "orig_nbformat": 4,
  "vscode": {
   "interpreter": {
    "hash": "74af3d2f25f1e46ebd2903d59225d79e4675ec224d56c01fc30cd168c2010d53"
   }
  }
 },
 "nbformat": 4,
 "nbformat_minor": 2
}
