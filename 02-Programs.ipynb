{
 "cells": [
  {
   "cell_type": "markdown",
   "metadata": {},
   "source": [
    "### Programs"
   ]
  },
  {
   "cell_type": "code",
   "execution_count": 7,
   "metadata": {},
   "outputs": [],
   "source": [
    "import math\n",
    "x = math.sin(1.2)"
   ]
  },
  {
   "cell_type": "code",
   "execution_count": 2,
   "metadata": {},
   "outputs": [
    {
     "name": "stdout",
     "output_type": "stream",
     "text": [
      "0.9320390859672263\n"
     ]
    }
   ],
   "source": [
    "print(x)"
   ]
  },
  {
   "cell_type": "markdown",
   "metadata": {},
   "source": [
    "### Using programms and modules"
   ]
  },
  {
   "cell_type": "code",
   "execution_count": null,
   "metadata": {},
   "outputs": [],
   "source": [
    "# import lab1_basic\n",
    "# print(lab1_basic.x)"
   ]
  },
  {
   "cell_type": "code",
   "execution_count": null,
   "metadata": {},
   "outputs": [],
   "source": [
    "# runfile('/Users/ih3/PythonLabs/lab1_import.py', wdir='/Users/ih3/PythonLabs')\n",
    "\n",
    "0.9320390859672263"
   ]
  },
  {
   "cell_type": "markdown",
   "metadata": {},
   "source": [
    "### Functions"
   ]
  },
  {
   "cell_type": "code",
   "execution_count": 1,
   "metadata": {},
   "outputs": [],
   "source": [
    "from math import pi\n",
    "theta_d = 30.0\n",
    "theta_r = pi / 180.0 * theta_d"
   ]
  },
  {
   "cell_type": "code",
   "execution_count": 2,
   "metadata": {},
   "outputs": [
    {
     "name": "stdout",
     "output_type": "stream",
     "text": [
      "0.5235987755982988\n"
     ]
    }
   ],
   "source": [
    "print(theta_r)"
   ]
  },
  {
   "cell_type": "code",
   "execution_count": 3,
   "metadata": {},
   "outputs": [],
   "source": [
    "from math import pi\n",
    "\n",
    "def degrees_to_radians(theta_d):\n",
    "    \"\"\"\n",
    "    Convert an angle from degrees to radians.\n",
    "    \n",
    "    Parameters\n",
    "    ----------\n",
    "    \n",
    "    theta_d : float\n",
    "        The angle in degrees.\n",
    "    Returns\n",
    "    -------\n",
    "    \n",
    "    theta_r : float\n",
    "        The angle in radians.\n",
    "    \"\"\"\n",
    "    theta_r = pi / 180.0 * theta_d\n",
    "    \n",
    "    return theta_r"
   ]
  },
  {
   "cell_type": "code",
   "execution_count": 4,
   "metadata": {},
   "outputs": [
    {
     "name": "stdout",
     "output_type": "stream",
     "text": [
      "0.5235987755982988\n",
      "1.0471975511965976\n",
      "1.5707963267948966\n"
     ]
    }
   ],
   "source": [
    "print(degrees_to_radians(30.0))\n",
    "print(degrees_to_radians(60.0))\n",
    "print(degrees_to_radians(90.0))"
   ]
  },
  {
   "cell_type": "code",
   "execution_count": null,
   "metadata": {},
   "outputs": [],
   "source": [
    "# def degrees_to_radians(theta_d):"
   ]
  },
  {
   "cell_type": "code",
   "execution_count": null,
   "metadata": {},
   "outputs": [],
   "source": [
    "\"\"\"\n",
    "Convert an angle from degrees to radians.\n",
    "...\n",
    "\"\"\""
   ]
  },
  {
   "cell_type": "code",
   "execution_count": 5,
   "metadata": {},
   "outputs": [
    {
     "name": "stdout",
     "output_type": "stream",
     "text": [
      "Help on function degrees_to_radians in module __main__:\n",
      "\n",
      "degrees_to_radians(theta_d)\n",
      "    Convert an angle from degrees to radians.\n",
      "    \n",
      "    Parameters\n",
      "    ----------\n",
      "    \n",
      "    theta_d : float\n",
      "        The angle in degrees.\n",
      "    Returns\n",
      "    -------\n",
      "    \n",
      "    theta_r : float\n",
      "        The angle in radians.\n",
      "\n"
     ]
    }
   ],
   "source": [
    "help(degrees_to_radians)"
   ]
  },
  {
   "cell_type": "code",
   "execution_count": 8,
   "metadata": {},
   "outputs": [
    {
     "name": "stdout",
     "output_type": "stream",
     "text": [
      "Help on built-in function sin in module math:\n",
      "\n",
      "sin(x, /)\n",
      "    Return the sine of x (measured in radians).\n",
      "\n"
     ]
    }
   ],
   "source": [
    "help(math.sin)"
   ]
  },
  {
   "cell_type": "code",
   "execution_count": 9,
   "metadata": {},
   "outputs": [],
   "source": [
    "from math import pi\n",
    "theta_d = 30.0\n",
    "theta_r = pi / 180.0 * theta_d"
   ]
  },
  {
   "cell_type": "code",
   "execution_count": 10,
   "metadata": {},
   "outputs": [
    {
     "ename": "SyntaxError",
     "evalue": "'return' outside function (3236586679.py, line 2)",
     "output_type": "error",
     "traceback": [
      "\u001b[1;36m  Input \u001b[1;32mIn [10]\u001b[1;36m\u001b[0m\n\u001b[1;33m    return theta_r\u001b[0m\n\u001b[1;37m    ^\u001b[0m\n\u001b[1;31mSyntaxError\u001b[0m\u001b[1;31m:\u001b[0m 'return' outside function\n"
     ]
    }
   ],
   "source": [
    "theta_r = pi / 180.0 * theta_d\n",
    "return theta_r"
   ]
  },
  {
   "cell_type": "code",
   "execution_count": 11,
   "metadata": {},
   "outputs": [],
   "source": [
    "from math import pi"
   ]
  },
  {
   "cell_type": "code",
   "execution_count": 12,
   "metadata": {},
   "outputs": [],
   "source": [
    "%reset -f"
   ]
  },
  {
   "cell_type": "code",
   "execution_count": 14,
   "metadata": {},
   "outputs": [],
   "source": [
    "from math import pi\n",
    "\n",
    "def degrees_to_radians(theta_d):\n",
    "    \"\"\"\n",
    "    Convert an angle from degrees to radians.\n",
    "    \n",
    "    Parameters\n",
    "    ----------\n",
    "    theta_d : float\n",
    "        The angle in degrees.\n",
    "    \n",
    "    Returns\n",
    "    -------\n",
    "    \n",
    "    theta_r : float\n",
    "        The angle in radians.\n",
    "    \"\"\"\n",
    "\n",
    "    theta_r = pi / 180.0 * theta_d\n",
    "    \n",
    "    return theta_r"
   ]
  },
  {
   "cell_type": "code",
   "execution_count": 15,
   "metadata": {},
   "outputs": [
    {
     "name": "stdout",
     "output_type": "stream",
     "text": [
      "0.7853981633974483\n"
     ]
    }
   ],
   "source": [
    "angle = degrees_to_radians(45.0)\n",
    "print(angle)"
   ]
  },
  {
   "cell_type": "code",
   "execution_count": 16,
   "metadata": {},
   "outputs": [
    {
     "ename": "NameError",
     "evalue": "name 'theta_d' is not defined",
     "output_type": "error",
     "traceback": [
      "\u001b[1;31m---------------------------------------------------------------------------\u001b[0m",
      "\u001b[1;31mNameError\u001b[0m                                 Traceback (most recent call last)",
      "\u001b[1;32md:\\GIT-repository\\github-maths-with-python\\maths-with-python\\02-Programs.ipynb Célula: 22\u001b[0m in \u001b[0;36m<cell line: 1>\u001b[1;34m()\u001b[0m\n\u001b[1;32m----> <a href='vscode-notebook-cell:/d%3A/GIT-repository/github-maths-with-python/maths-with-python/02-Programs.ipynb#X35sZmlsZQ%3D%3D?line=0'>1</a>\u001b[0m theta_d\n",
      "\u001b[1;31mNameError\u001b[0m: name 'theta_d' is not defined"
     ]
    }
   ],
   "source": [
    "theta_d"
   ]
  },
  {
   "cell_type": "code",
   "execution_count": 17,
   "metadata": {},
   "outputs": [
    {
     "name": "stdout",
     "output_type": "stream",
     "text": [
      "1.1\n",
      "1.1\n"
     ]
    }
   ],
   "source": [
    "x1 = 1.1\n",
    "\n",
    "def print_x1():\n",
    "    print(x1)\n",
    "\n",
    "print(x1)\n",
    "print_x1()"
   ]
  },
  {
   "cell_type": "code",
   "execution_count": 20,
   "metadata": {},
   "outputs": [
    {
     "name": "stdout",
     "output_type": "stream",
     "text": [
      "1.2\n",
      "2.3\n"
     ]
    }
   ],
   "source": [
    "x2 = 1.2\n",
    "\n",
    "def print_x2():\n",
    "    x2 = 2.3\n",
    "    print(x2)\n",
    "\n",
    "print(x2)\n",
    "print_x2()"
   ]
  },
  {
   "cell_type": "code",
   "execution_count": 21,
   "metadata": {},
   "outputs": [
    {
     "name": "stdout",
     "output_type": "stream",
     "text": [
      "1.3\n"
     ]
    },
    {
     "ename": "UnboundLocalError",
     "evalue": "local variable 'x3' referenced before assignment",
     "output_type": "error",
     "traceback": [
      "\u001b[1;31m---------------------------------------------------------------------------\u001b[0m",
      "\u001b[1;31mUnboundLocalError\u001b[0m                         Traceback (most recent call last)",
      "\u001b[1;32md:\\GIT-repository\\github-maths-with-python\\maths-with-python\\02-Programs.ipynb Célula: 25\u001b[0m in \u001b[0;36m<cell line: 8>\u001b[1;34m()\u001b[0m\n\u001b[0;32m      <a href='vscode-notebook-cell:/d%3A/GIT-repository/github-maths-with-python/maths-with-python/02-Programs.ipynb#X46sZmlsZQ%3D%3D?line=4'>5</a>\u001b[0m     x3 \u001b[39m=\u001b[39m \u001b[39m2.4\u001b[39m\n\u001b[0;32m      <a href='vscode-notebook-cell:/d%3A/GIT-repository/github-maths-with-python/maths-with-python/02-Programs.ipynb#X46sZmlsZQ%3D%3D?line=6'>7</a>\u001b[0m \u001b[39mprint\u001b[39m(x3)\n\u001b[1;32m----> <a href='vscode-notebook-cell:/d%3A/GIT-repository/github-maths-with-python/maths-with-python/02-Programs.ipynb#X46sZmlsZQ%3D%3D?line=7'>8</a>\u001b[0m print_x3()\n",
      "\u001b[1;32md:\\GIT-repository\\github-maths-with-python\\maths-with-python\\02-Programs.ipynb Célula: 25\u001b[0m in \u001b[0;36mprint_x3\u001b[1;34m()\u001b[0m\n\u001b[0;32m      <a href='vscode-notebook-cell:/d%3A/GIT-repository/github-maths-with-python/maths-with-python/02-Programs.ipynb#X46sZmlsZQ%3D%3D?line=2'>3</a>\u001b[0m \u001b[39mdef\u001b[39;00m \u001b[39mprint_x3\u001b[39m():\n\u001b[1;32m----> <a href='vscode-notebook-cell:/d%3A/GIT-repository/github-maths-with-python/maths-with-python/02-Programs.ipynb#X46sZmlsZQ%3D%3D?line=3'>4</a>\u001b[0m     \u001b[39mprint\u001b[39m(x3)\n\u001b[0;32m      <a href='vscode-notebook-cell:/d%3A/GIT-repository/github-maths-with-python/maths-with-python/02-Programs.ipynb#X46sZmlsZQ%3D%3D?line=4'>5</a>\u001b[0m     x3 \u001b[39m=\u001b[39m \u001b[39m2.4\u001b[39m\n",
      "\u001b[1;31mUnboundLocalError\u001b[0m: local variable 'x3' referenced before assignment"
     ]
    }
   ],
   "source": [
    "x3 = 1.3\n",
    "\n",
    "def print_x3():\n",
    "    print(x3)\n",
    "    x3 = 2.4\n",
    "\n",
    "print(x3)\n",
    "print_x3()"
   ]
  },
  {
   "cell_type": "code",
   "execution_count": 22,
   "metadata": {},
   "outputs": [],
   "source": [
    "from math import sqrt\n",
    "\n",
    "def drop_time(height, speed, gravity):\n",
    "    \"\"\"\n",
    "    Return how long it takes an object released from a height h,\n",
    "    in a gravitational field of strength g, with initial vertical speed v,\n",
    "    to hit the ground.\n",
    "    \n",
    "    Parameters\n",
    "    ----------\n",
    "    \n",
    "    height : float\n",
    "        Initial height h\n",
    "    \n",
    "    speed : float\n",
    "        Initial vertical speed v\n",
    "    \n",
    "    gravity : float\n",
    "        Gravitional field strength g\n",
    "\n",
    "    Returns\n",
    "    -------\n",
    "    \n",
    "    t : float\n",
    "        Time the object hits the ground\n",
    "    \"\"\"\n",
    "    \n",
    "    return (speed + sqrt(speed**2 + 2.0*height*gravity)) / gravity"
   ]
  },
  {
   "cell_type": "code",
   "execution_count": 23,
   "metadata": {},
   "outputs": [
    {
     "name": "stdout",
     "output_type": "stream",
     "text": [
      "1.4285714285714284\n",
      "1.5342519232263467\n",
      "4.362804694292706\n"
     ]
    }
   ],
   "source": [
    "print(drop_time(10.0, 0.0, 9.8))\n",
    "print(drop_time(10.0, 1.0, 9.8))\n",
    "print(drop_time(100.0, 9.8, 15.0))"
   ]
  },
  {
   "cell_type": "code",
   "execution_count": 24,
   "metadata": {},
   "outputs": [
    {
     "name": "stdout",
     "output_type": "stream",
     "text": [
      "1.4285714285714284\n"
     ]
    }
   ],
   "source": [
    "print(drop_time(height=10.0, speed=0.0, gravity=9.8))"
   ]
  },
  {
   "cell_type": "code",
   "execution_count": 25,
   "metadata": {},
   "outputs": [
    {
     "name": "stdout",
     "output_type": "stream",
     "text": [
      "6.300406486742956\n"
     ]
    }
   ],
   "source": [
    "print(drop_time(height=100.0, gravity=9.8, speed=15.0))"
   ]
  },
  {
   "cell_type": "code",
   "execution_count": 26,
   "metadata": {},
   "outputs": [],
   "source": [
    "def drop_time(height, speed, gravity=9.8):\n",
    "    \"\"\"\n",
    "    Return how long it takes an object released from a height h,\n",
    "    in a gravitational field of strength g, with initial vertical speed v,\n",
    "    to hit the ground.\n",
    "    26 Chapter 3. Programs\n",
    "    Maths with Python Documentation, Release 1.0\n",
    "\n",
    "    Parameters\n",
    "    ----------\n",
    "    \n",
    "    height : float\n",
    "        Initial height h\n",
    "    \n",
    "    speed : float\n",
    "        Initial vertical speed v\n",
    "    \n",
    "    gravity : float\n",
    "        Gravitional field strength g\n",
    "    \n",
    "    Returns\n",
    "    -------\n",
    "    \n",
    "    t : float\n",
    "    Time the object hits the ground\n",
    "    \"\"\"\n",
    "    \n",
    "    return (speed + sqrt(speed**2 + 2.0*height*gravity)) / gravity"
   ]
  },
  {
   "cell_type": "code",
   "execution_count": 27,
   "metadata": {},
   "outputs": [
    {
     "name": "stdout",
     "output_type": "stream",
     "text": [
      "1.4285714285714284\n",
      "3.2980530129318018\n",
      "2.649516083708069\n"
     ]
    }
   ],
   "source": [
    "print(drop_time(10.0, 0.0))\n",
    "print(drop_time(height=50.0, speed=1.0))\n",
    "print(drop_time(gravity=15.0, height=50.0, speed=1.0))"
   ]
  },
  {
   "cell_type": "markdown",
   "metadata": {},
   "source": [
    "### Printing and strings"
   ]
  },
  {
   "cell_type": "code",
   "execution_count": 18,
   "metadata": {},
   "outputs": [
    {
     "name": "stdout",
     "output_type": "stream",
     "text": [
      "1.2\n",
      "2.3\n"
     ]
    }
   ],
   "source": []
  },
  {
   "cell_type": "markdown",
   "metadata": {},
   "source": [
    "### Putting it together"
   ]
  },
  {
   "cell_type": "code",
   "execution_count": 19,
   "metadata": {},
   "outputs": [
    {
     "name": "stdout",
     "output_type": "stream",
     "text": [
      "1.3\n"
     ]
    },
    {
     "ename": "UnboundLocalError",
     "evalue": "local variable 'x3' referenced before assignment",
     "output_type": "error",
     "traceback": [
      "\u001b[1;31m---------------------------------------------------------------------------\u001b[0m",
      "\u001b[1;31mUnboundLocalError\u001b[0m                         Traceback (most recent call last)",
      "\u001b[1;32md:\\GIT-repository\\github-maths-with-python\\maths-with-python\\02-Programs.ipynb Célula: 27\u001b[0m in \u001b[0;36m<cell line: 8>\u001b[1;34m()\u001b[0m\n\u001b[0;32m      <a href='vscode-notebook-cell:/d%3A/GIT-repository/github-maths-with-python/maths-with-python/02-Programs.ipynb#X13sZmlsZQ%3D%3D?line=4'>5</a>\u001b[0m     x3 \u001b[39m=\u001b[39m \u001b[39m2.4\u001b[39m\n\u001b[0;32m      <a href='vscode-notebook-cell:/d%3A/GIT-repository/github-maths-with-python/maths-with-python/02-Programs.ipynb#X13sZmlsZQ%3D%3D?line=6'>7</a>\u001b[0m \u001b[39mprint\u001b[39m(x3)\n\u001b[1;32m----> <a href='vscode-notebook-cell:/d%3A/GIT-repository/github-maths-with-python/maths-with-python/02-Programs.ipynb#X13sZmlsZQ%3D%3D?line=7'>8</a>\u001b[0m print_x3()\n",
      "\u001b[1;32md:\\GIT-repository\\github-maths-with-python\\maths-with-python\\02-Programs.ipynb Célula: 27\u001b[0m in \u001b[0;36mprint_x3\u001b[1;34m()\u001b[0m\n\u001b[0;32m      <a href='vscode-notebook-cell:/d%3A/GIT-repository/github-maths-with-python/maths-with-python/02-Programs.ipynb#X13sZmlsZQ%3D%3D?line=2'>3</a>\u001b[0m \u001b[39mdef\u001b[39;00m \u001b[39mprint_x3\u001b[39m():\n\u001b[1;32m----> <a href='vscode-notebook-cell:/d%3A/GIT-repository/github-maths-with-python/maths-with-python/02-Programs.ipynb#X13sZmlsZQ%3D%3D?line=3'>4</a>\u001b[0m     \u001b[39mprint\u001b[39m(x3)\n\u001b[0;32m      <a href='vscode-notebook-cell:/d%3A/GIT-repository/github-maths-with-python/maths-with-python/02-Programs.ipynb#X13sZmlsZQ%3D%3D?line=4'>5</a>\u001b[0m     x3 \u001b[39m=\u001b[39m \u001b[39m2.4\u001b[39m\n",
      "\u001b[1;31mUnboundLocalError\u001b[0m: local variable 'x3' referenced before assignment"
     ]
    }
   ],
   "source": []
  },
  {
   "cell_type": "markdown",
   "metadata": {},
   "source": [
    "### Exercise: basic functions"
   ]
  },
  {
   "cell_type": "code",
   "execution_count": null,
   "metadata": {},
   "outputs": [],
   "source": []
  },
  {
   "cell_type": "markdown",
   "metadata": {},
   "source": [
    "### Exercise: Floating point numbers"
   ]
  },
  {
   "cell_type": "code",
   "execution_count": null,
   "metadata": {},
   "outputs": [],
   "source": []
  },
  {
   "cell_type": "markdown",
   "metadata": {},
   "source": [
    "### End."
   ]
  }
 ],
 "metadata": {
  "kernelspec": {
   "display_name": "Python 3.10.5 64-bit",
   "language": "python",
   "name": "python3"
  },
  "language_info": {
   "codemirror_mode": {
    "name": "ipython",
    "version": 3
   },
   "file_extension": ".py",
   "mimetype": "text/x-python",
   "name": "python",
   "nbconvert_exporter": "python",
   "pygments_lexer": "ipython3",
   "version": "3.10.5"
  },
  "orig_nbformat": 4,
  "vscode": {
   "interpreter": {
    "hash": "74af3d2f25f1e46ebd2903d59225d79e4675ec224d56c01fc30cd168c2010d53"
   }
  }
 },
 "nbformat": 4,
 "nbformat_minor": 2
}
