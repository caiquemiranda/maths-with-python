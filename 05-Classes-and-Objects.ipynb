{
 "cells": [
  {
   "cell_type": "markdown",
   "metadata": {},
   "source": [
    "### Classes and Object Oriented Programming"
   ]
  },
  {
   "cell_type": "code",
   "execution_count": 8,
   "metadata": {},
   "outputs": [],
   "source": [
    "p_normal = (12, -14, 0, 2)"
   ]
  },
  {
   "cell_type": "code",
   "execution_count": 9,
   "metadata": {},
   "outputs": [
    {
     "data": {
      "text/plain": [
       "3"
      ]
     },
     "execution_count": 9,
     "metadata": {},
     "output_type": "execute_result"
    }
   ],
   "source": [
    "len(p_normal)-1"
   ]
  },
  {
   "cell_type": "code",
   "execution_count": 10,
   "metadata": {},
   "outputs": [],
   "source": [
    "p_roots = (1, 2, -3)"
   ]
  },
  {
   "cell_type": "code",
   "execution_count": 11,
   "metadata": {},
   "outputs": [],
   "source": [
    "p_leading_term = 2"
   ]
  },
  {
   "cell_type": "markdown",
   "metadata": {},
   "source": [
    "#### Classes"
   ]
  },
  {
   "cell_type": "code",
   "execution_count": 12,
   "metadata": {},
   "outputs": [],
   "source": [
    "class Polynomial(object):\n",
    "    explanation = \"I am a polynomial\"\n",
    "\n",
    "    def explain(self):\n",
    "        print(self.explanation)"
   ]
  },
  {
   "cell_type": "code",
   "execution_count": 13,
   "metadata": {},
   "outputs": [
    {
     "name": "stdout",
     "output_type": "stream",
     "text": [
      "I am a polynomial\n",
      "I am a polynomial\n",
      "I change the string\n"
     ]
    }
   ],
   "source": [
    "p = Polynomial()\n",
    "print(p.explanation)\n",
    "p.explain()\n",
    "p.explanation = \"I change the string\"\n",
    "p.explain()"
   ]
  },
  {
   "cell_type": "code",
   "execution_count": 14,
   "metadata": {},
   "outputs": [
    {
     "name": "stdout",
     "output_type": "stream",
     "text": [
      "Changed the string a third time\n",
      "I am a polynomial\n"
     ]
    }
   ],
   "source": [
    "p = Polynomial()\n",
    "p.explanation = \"Changed the string again\"\n",
    "q = Polynomial()\n",
    "p.explanation = \"Changed the string a third time\"\n",
    "p.explain()\n",
    "q.explain()"
   ]
  },
  {
   "cell_type": "code",
   "execution_count": 15,
   "metadata": {},
   "outputs": [],
   "source": [
    "class Polynomial(object):\n",
    "    explanation = \"I am a polynomial\"\n",
    "\n",
    "    def explain_to(self, caller):\n",
    "        print(\"Hello, {}. {}.\".format(caller,self.explanation))"
   ]
  },
  {
   "cell_type": "code",
   "execution_count": 16,
   "metadata": {},
   "outputs": [
    {
     "name": "stdout",
     "output_type": "stream",
     "text": [
      "Hello, Alice. I am a polynomial.\n"
     ]
    }
   ],
   "source": [
    "r = Polynomial()\n",
    "r.explain_to(\"Alice\")"
   ]
  },
  {
   "cell_type": "code",
   "execution_count": 17,
   "metadata": {},
   "outputs": [],
   "source": [
    "class Polynomial(object):\n",
    "    \"\"\"Representing a polynomial.\"\"\"\n",
    "    explanation = \"I am a polynomial\"\n",
    "\n",
    "    def __init__(self, roots, leading_term):\n",
    "        self.roots = roots\n",
    "        self.leading_term = leading_term\n",
    "        self.order = len(roots)\n",
    "\n",
    "    def explain_to(self, caller):\n",
    "        print(\"Hello, {}. {}.\".format(caller,self.explanation))\n",
    "        print(\"My roots are {}.\".format(self.roots))"
   ]
  },
  {
   "cell_type": "code",
   "execution_count": 18,
   "metadata": {},
   "outputs": [
    {
     "name": "stdout",
     "output_type": "stream",
     "text": [
      "Hello, Alice. I am a polynomial.\n",
      "My roots are (1, 2, -3).\n",
      "Hello, Bob. I am a polynomial.\n",
      "My roots are (1, 1, 0, -2).\n"
     ]
    }
   ],
   "source": [
    "p = Polynomial(p_roots, p_leading_term)\n",
    "p.explain_to(\"Alice\")\n",
    "q = Polynomial((1,1,0,-2), -1)\n",
    "q.explain_to(\"Bob\")"
   ]
  },
  {
   "cell_type": "code",
   "execution_count": 19,
   "metadata": {},
   "outputs": [],
   "source": [
    "class Polynomial(object):\n",
    "    \"\"\"Representing a polynomial.\"\"\"\n",
    "    explanation = \"I am a polynomial\"\n",
    "\n",
    "    def __init__(self, roots, leading_term):\n",
    "        self.roots = roots\n",
    "        self.leading_term = leading_term\n",
    "        self.order = len(roots)\n",
    "\n",
    "    def display(self):\n",
    "        \n",
    "        string = str(self.leading_term)\n",
    "        for root in self.roots:\n",
    "            if root == 0:\n",
    "                string = string + \"x\"\n",
    "            \n",
    "            elif root > 0:\n",
    "                string = string + \"(x - {})\".format(root)\n",
    "            \n",
    "            else:\n",
    "                string = string + \"(x + {})\".format(-root)\n",
    "        return string\n",
    "\n",
    "    def explain_to(self, caller):\n",
    "        print(\"Hello, {}. {}.\".format(caller,self.explanation))\n",
    "        print(\"My roots are {}.\".format(self.roots))"
   ]
  },
  {
   "cell_type": "code",
   "execution_count": 20,
   "metadata": {},
   "outputs": [
    {
     "name": "stdout",
     "output_type": "stream",
     "text": [
      "2(x - 1)(x - 2)(x + 3)\n",
      "-1(x - 1)(x - 1)x(x + 2)\n"
     ]
    }
   ],
   "source": [
    "p = Polynomial(p_roots, p_leading_term)\n",
    "print(p.display())\n",
    "q = Polynomial((1,1,0,-2), -1)\n",
    "print(q.display())"
   ]
  },
  {
   "cell_type": "code",
   "execution_count": 21,
   "metadata": {},
   "outputs": [],
   "source": [
    "class Polynomial(object):\n",
    "    \"\"\"Representing a polynomial.\"\"\"\n",
    "    explanation = \"I am a polynomial\"\n",
    "    \n",
    "    def __init__(self, roots, leading_term):\n",
    "        self.roots = roots\n",
    "        self.leading_term = leading_term\n",
    "        self.order = len(roots)\n",
    "\n",
    "    def display(self):\n",
    "        string = str(self.leading_term)\n",
    "        for root in self.roots:\n",
    "            if root == 0:\n",
    "                string = string + \"x\"\n",
    "            elif root > 0:\n",
    "                string = string + \"(x - {})\".format(root)\n",
    "            else:\n",
    "                string = string + \"(x + {})\".format(-root)\n",
    "        return string\n",
    "    \n",
    "    def multiply(self, other):\n",
    "        roots = self.roots + other.roots\n",
    "        leading_term = self.leading_term * other.leading_term\n",
    "        return Polynomial(roots, leading_term)\n",
    "\n",
    "    def explain_to(self, caller):\n",
    "        print(\"Hello, {}. {}.\".format(caller,self.explanation))\n",
    "        print(\"My roots are {}.\".format(self.roots))"
   ]
  },
  {
   "cell_type": "code",
   "execution_count": 22,
   "metadata": {},
   "outputs": [
    {
     "name": "stdout",
     "output_type": "stream",
     "text": [
      "-2(x - 1)(x - 2)(x + 3)(x - 1)(x - 1)x(x + 2)\n"
     ]
    }
   ],
   "source": [
    "p = Polynomial(p_roots, p_leading_term)\n",
    "q = Polynomial((1,1,0,-2), -1)\n",
    "r = p.multiply(q)\n",
    "print(r.display())"
   ]
  },
  {
   "cell_type": "markdown",
   "metadata": {},
   "source": [
    "### Exercise: Equivalence classes"
   ]
  },
  {
   "cell_type": "code",
   "execution_count": null,
   "metadata": {},
   "outputs": [],
   "source": []
  },
  {
   "cell_type": "markdown",
   "metadata": {},
   "source": [
    "### End."
   ]
  }
 ],
 "metadata": {
  "kernelspec": {
   "display_name": "Python 3.10.5 64-bit",
   "language": "python",
   "name": "python3"
  },
  "language_info": {
   "codemirror_mode": {
    "name": "ipython",
    "version": 3
   },
   "file_extension": ".py",
   "mimetype": "text/x-python",
   "name": "python",
   "nbconvert_exporter": "python",
   "pygments_lexer": "ipython3",
   "version": "3.10.5"
  },
  "orig_nbformat": 4,
  "vscode": {
   "interpreter": {
    "hash": "74af3d2f25f1e46ebd2903d59225d79e4675ec224d56c01fc30cd168c2010d53"
   }
  }
 },
 "nbformat": 4,
 "nbformat_minor": 2
}
