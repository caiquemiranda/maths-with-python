{
 "cells": [
  {
   "cell_type": "markdown",
   "metadata": {},
   "source": [
    "### Classes and Object Oriented Programming"
   ]
  },
  {
   "cell_type": "code",
   "execution_count": 1,
   "metadata": {},
   "outputs": [],
   "source": [
    "class Polynomial(object):\n",
    "    \"\"\"Representing a polynomial.\"\"\"\n",
    "    explanation = \"I am a polynomial\"\n",
    "    \n",
    "    def __init__(self, roots, leading_term):\n",
    "        self.roots = roots\n",
    "        self.leading_term = leading_term\n",
    "        self.order = len(roots)\n",
    "        \n",
    "    def display(self):\n",
    "        string = str(self.leading_term)\n",
    "        for root in self.roots:\n",
    "            if root == 0:\n",
    "                string = string + \"x\"\n",
    "            elif root > 0:\n",
    "                string = string + \"(x - {})\".format(root)\n",
    "            else:\n",
    "                string = string + \"(x + {})\".format(-root)\n",
    "        \n",
    "        return string\n",
    "    \n",
    "    def multiply(self, other):\n",
    "        roots = self.roots + other.roots\n",
    "        leading_term = self.leading_term * other.leading_term\n",
    "        return Polynomial(roots, leading_term)\n",
    "    \n",
    "    def explain_to(self, caller):\n",
    "        print(\"Hello, {}. {}.\".format(caller,self.explanation))\n",
    "        print(\"My roots are {}.\".format(self.roots))"
   ]
  },
  {
   "cell_type": "code",
   "execution_count": 2,
   "metadata": {},
   "outputs": [
    {
     "name": "stdout",
     "output_type": "stream",
     "text": [
      "Hello, Alice. I am a polynomial.\n",
      "My roots are (1, 2, -3).\n",
      "Hello, Bob. I am a polynomial.\n",
      "My roots are (1, 1, 0, -2).\n"
     ]
    }
   ],
   "source": [
    "p_roots = (1, 2, -3)\n",
    "p_leading_term = 2\n",
    "p = Polynomial(p_roots, p_leading_term)\n",
    "p.explain_to(\"Alice\")\n",
    "q = Polynomial((1,1,0,-2), -1)\n",
    "q.explain_to(\"Bob\")"
   ]
  },
  {
   "cell_type": "code",
   "execution_count": 3,
   "metadata": {},
   "outputs": [],
   "source": [
    "class Polynomial(object):\n",
    "    \"\"\"Representing a polynomial.\"\"\"\n",
    "    explanation = \"I am a polynomial\"\n",
    "    \n",
    "    def __init__(self, roots, leading_term):\n",
    "        self.roots = roots\n",
    "        self.leading_term = leading_term\n",
    "        self.order = len(roots)\n",
    "    \n",
    "    def __repr__(self):\n",
    "        string = str(self.leading_term)\n",
    "        for root in self.roots:\n",
    "            if root == 0:\n",
    "                string = string + \"x\"\n",
    "            \n",
    "            elif root > 0:\n",
    "                string = string + \"(x - {})\".format(root)\n",
    "            else:\n",
    "                string = string + \"(x + {})\".format(-root)\n",
    "        \n",
    "        return string\n",
    "        \n",
    "    def explain_to(self, caller):\n",
    "        print(\"Hello, {}. {}.\".format(caller,self.explanation))\n",
    "        print(\"My roots are {}.\".format(self.roots))"
   ]
  },
  {
   "cell_type": "code",
   "execution_count": 4,
   "metadata": {},
   "outputs": [
    {
     "name": "stdout",
     "output_type": "stream",
     "text": [
      "2(x - 1)(x - 2)(x + 3)\n",
      "-1(x - 1)(x - 1)x(x + 2)\n"
     ]
    }
   ],
   "source": [
    "p = Polynomial(p_roots, p_leading_term)\n",
    "print(p)\n",
    "q = Polynomial((1,1,0,-2), -1)\n",
    "print(q)"
   ]
  },
  {
   "cell_type": "code",
   "execution_count": 5,
   "metadata": {},
   "outputs": [],
   "source": [
    "class Polynomial(object):\n",
    "    \"\"\"Representing a polynomial.\"\"\"\n",
    "    explanation = \"I am a polynomial\"\n",
    "    \n",
    "    def __init__(self, roots, leading_term):\n",
    "        self.roots = roots\n",
    "        self.leading_term = leading_term\n",
    "        self.order = len(roots)\n",
    "        \n",
    "    def __repr__(self):\n",
    "        string = str(self.leading_term)\n",
    "        for root in self.roots:\n",
    "            if root == 0:\n",
    "                string = string + \"x\"\n",
    "            elif root > 0:\n",
    "                string = string + \"(x - {})\".format(root)\n",
    "            else:\n",
    "                string = string + \"(x + {})\".format(-root)\n",
    "        return string\n",
    "    \n",
    "    def __mul__(self, other):\n",
    "        roots = self.roots + other.roots\n",
    "        leading_term = self.leading_term * other.leading_term\n",
    "        return Polynomial(roots, leading_term)\n",
    "    \n",
    "    def explain_to(self, caller):\n",
    "        print(\"Hello, {}. {}.\".format(caller,self.explanation))\n",
    "        print(\"My roots are {}.\".format(self.roots))"
   ]
  },
  {
   "cell_type": "code",
   "execution_count": 6,
   "metadata": {},
   "outputs": [
    {
     "name": "stdout",
     "output_type": "stream",
     "text": [
      "-2(x - 1)(x - 2)(x + 3)(x - 1)(x - 1)x(x + 2)\n"
     ]
    }
   ],
   "source": [
    "p = Polynomial(p_roots, p_leading_term)\n",
    "q = Polynomial((1,1,0,-2), -1)\n",
    "r = p*q\n",
    "print(r)"
   ]
  },
  {
   "cell_type": "code",
   "execution_count": 7,
   "metadata": {},
   "outputs": [],
   "source": [
    "class Monomial(Polynomial):\n",
    "    \"\"\"Representing a monomial, which is a polynomial with leading term 1.\"\"\"\n",
    "    \n",
    "    def __init__(self, roots):\n",
    "        self.roots = roots\n",
    "        self.leading_term = 1\n",
    "        self.order = len(roots)"
   ]
  },
  {
   "cell_type": "code",
   "execution_count": 9,
   "metadata": {},
   "outputs": [
    {
     "name": "stdout",
     "output_type": "stream",
     "text": [
      "Hello, Caroline. I am a polynomial.\n",
      "My roots are (-1, 4, 9).\n",
      "1(x + 1)(x - 4)(x - 9)\n"
     ]
    }
   ],
   "source": [
    "m = Monomial((-1, 4, 9))\n",
    "m.explain_to(\"Caroline\")\n",
    "print(m)"
   ]
  },
  {
   "cell_type": "code",
   "execution_count": 10,
   "metadata": {},
   "outputs": [],
   "source": [
    "class Monomial(Polynomial):\n",
    "    \"\"\"Representing a monomial, which is a polynomial with leading term 1.\"\"\"\n",
    "    explanation = \"I am a monomial\"\n",
    "    \n",
    "    def __init__(self, roots):\n",
    "        self.roots = roots\n",
    "        self.leading_term = 1\n",
    "        self.order = len(roots)\n",
    "    \n",
    "    def __repr__(self):\n",
    "        string = \"\"\n",
    "        for root in self.roots:\n",
    "            if root == 0:\n",
    "                string = string + \"x\"\n",
    "            elif root > 0:\n",
    "                string = string + \"(x - {})\".format(root)\n",
    "            else:\n",
    "                string = string + \"(x + {})\".format(-root)\n",
    "        return string"
   ]
  },
  {
   "cell_type": "code",
   "execution_count": 11,
   "metadata": {},
   "outputs": [
    {
     "name": "stdout",
     "output_type": "stream",
     "text": [
      "Hello, Caroline. I am a monomial.\n",
      "My roots are (-1, 4, 9).\n",
      "(x + 1)(x - 4)(x - 9)\n"
     ]
    }
   ],
   "source": [
    "m = Monomial((-1, 4, 9))\n",
    "m.explain_to(\"Caroline\")\n",
    "print(m)"
   ]
  },
  {
   "cell_type": "code",
   "execution_count": 12,
   "metadata": {},
   "outputs": [
    {
     "name": "stdout",
     "output_type": "stream",
     "text": [
      "Hello, David. I am a polynomial.\n",
      "My roots are (2, 3).\n",
      "4(x - 2)(x - 3)\n"
     ]
    }
   ],
   "source": [
    "s= Polynomial((2, 3), 4)\n",
    "s.explain_to(\"David\")\n",
    "print(s)"
   ]
  },
  {
   "cell_type": "code",
   "execution_count": 13,
   "metadata": {},
   "outputs": [
    {
     "name": "stdout",
     "output_type": "stream",
     "text": [
      "Hello, Erik. I am a polynomial.\n",
      "My roots are (-1, 4, 9, 2, 3).\n",
      "4(x + 1)(x - 4)(x - 9)(x - 2)(x - 3)\n"
     ]
    }
   ],
   "source": [
    "t = m*s\n",
    "t.explain_to(\"Erik\")\n",
    "print(t)"
   ]
  },
  {
   "cell_type": "code",
   "execution_count": 14,
   "metadata": {},
   "outputs": [],
   "source": [
    "class Monomial(Polynomial):\n",
    "    \"\"\"Representing a monomial, which is a polynomial with leading term 1.\"\"\"\n",
    "    explanation = \"I am a monomial\"\n",
    "    \n",
    "    def __init__(self, roots):\n",
    "        Polynomial.__init__(self, roots, 1)\n",
    "    \n",
    "    def __repr__(self):\n",
    "        string = \"\"\n",
    "        for root in self.roots:\n",
    "            if root == 0:\n",
    "                string = string + \"x\"\n",
    "            elif root > 0:\n",
    "                string = string + \"(x - {})\".format(root)\n",
    "            else:\n",
    "                string = string + \"(x + {})\".format(-root)\n",
    "        return string"
   ]
  },
  {
   "cell_type": "code",
   "execution_count": 15,
   "metadata": {},
   "outputs": [
    {
     "name": "stdout",
     "output_type": "stream",
     "text": [
      "Hello, Fred. I am a monomial.\n",
      "My roots are (2, -3).\n",
      "(x - 2)(x + 3)\n"
     ]
    }
   ],
   "source": [
    "v = Monomial((2, -3))\n",
    "v.explain_to(\"Fred\")\n",
    "print(v)"
   ]
  },
  {
   "cell_type": "markdown",
   "metadata": {},
   "source": [
    "### Exercise: Equivalence classes"
   ]
  },
  {
   "cell_type": "code",
   "execution_count": null,
   "metadata": {},
   "outputs": [],
   "source": []
  },
  {
   "cell_type": "markdown",
   "metadata": {},
   "source": [
    "### Exercise: Rational numbers"
   ]
  },
  {
   "cell_type": "code",
   "execution_count": null,
   "metadata": {},
   "outputs": [],
   "source": []
  },
  {
   "cell_type": "markdown",
   "metadata": {},
   "source": [
    "### End."
   ]
  }
 ],
 "metadata": {
  "kernelspec": {
   "display_name": "Python 3.10.5 64-bit",
   "language": "python",
   "name": "python3"
  },
  "language_info": {
   "codemirror_mode": {
    "name": "ipython",
    "version": 3
   },
   "file_extension": ".py",
   "mimetype": "text/x-python",
   "name": "python",
   "nbconvert_exporter": "python",
   "pygments_lexer": "ipython3",
   "version": "3.10.5"
  },
  "orig_nbformat": 4,
  "vscode": {
   "interpreter": {
    "hash": "74af3d2f25f1e46ebd2903d59225d79e4675ec224d56c01fc30cd168c2010d53"
   }
  }
 },
 "nbformat": 4,
 "nbformat_minor": 2
}
