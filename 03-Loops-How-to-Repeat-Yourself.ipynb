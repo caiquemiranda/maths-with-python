{
 "cells": [
  {
   "cell_type": "markdown",
   "metadata": {},
   "source": [
    "### Loops"
   ]
  },
  {
   "cell_type": "markdown",
   "metadata": {},
   "source": [
    "#### While loops"
   ]
  },
  {
   "cell_type": "code",
   "execution_count": 1,
   "metadata": {},
   "outputs": [],
   "source": [
    "from math import pi\n",
    "\n",
    "def degrees_to_radians(theta_d):\n",
    "    \"\"\"\n",
    "    Convert an angle from degrees to radians.\n",
    "    \n",
    "    Parameters\n",
    "    ----------\n",
    "    \n",
    "    theta_d : float\n",
    "        The angle in degrees.\n",
    "    \n",
    "    Returns\n",
    "    -------\n",
    "    \n",
    "    theta_r : float\n",
    "        The angle in radians.\n",
    "    \"\"\"\n",
    "\n",
    "    theta_r = pi / 180.0 * theta_d\n",
    "    return theta_r"
   ]
  },
  {
   "cell_type": "code",
   "execution_count": 2,
   "metadata": {},
   "outputs": [
    {
     "name": "stdout",
     "output_type": "stream",
     "text": [
      "0.0\n",
      "0.2617993877991494\n",
      "0.5235987755982988\n",
      "0.7853981633974483\n",
      "1.0471975511965976\n",
      "1.3089969389957472\n",
      "1.5707963267948966\n"
     ]
    }
   ],
   "source": [
    "theta_d = 0.0\n",
    "\n",
    "while theta_d <= 90.0:\n",
    "    print(degrees_to_radians(theta_d))\n",
    "    theta_d = theta_d + 15.0"
   ]
  },
  {
   "cell_type": "markdown",
   "metadata": {},
   "source": [
    "#### For loops"
   ]
  },
  {
   "cell_type": "code",
   "execution_count": 3,
   "metadata": {},
   "outputs": [
    {
     "name": "stdout",
     "output_type": "stream",
     "text": [
      "0.2617993877991494\n",
      "0.5235987755982988\n",
      "0.7853981633974483\n",
      "1.0471975511965976\n",
      "1.3089969389957472\n",
      "1.5707963267948966\n"
     ]
    }
   ],
   "source": [
    "steps = 1, 2, 3, 4, 5, 6\n",
    "\n",
    "for n in steps:\n",
    "    print(degrees_to_radians(15*n))"
   ]
  },
  {
   "cell_type": "code",
   "execution_count": 4,
   "metadata": {},
   "outputs": [
    {
     "name": "stdout",
     "output_type": "stream",
     "text": [
      "0.2617993877991494\n",
      "0.5235987755982988\n",
      "0.7853981633974483\n",
      "1.0471975511965976\n",
      "1.3089969389957472\n",
      "1.5707963267948966\n"
     ]
    }
   ],
   "source": [
    "for n in range(1,7):\n",
    "    print(degrees_to_radians(15*n))"
   ]
  },
  {
   "cell_type": "code",
   "execution_count": 5,
   "metadata": {},
   "outputs": [
    {
     "name": "stdout",
     "output_type": "stream",
     "text": [
      "[0, 1, 2, 3]\n",
      "[-1, 0, 1, 2]\n",
      "[1, 3, 5, 7, 9]\n"
     ]
    }
   ],
   "source": [
    "print(list(range(4)))\n",
    "print(list(range(-1,3)))\n",
    "print(list(range(1,10,2)))"
   ]
  },
  {
   "cell_type": "code",
   "execution_count": 6,
   "metadata": {},
   "outputs": [
    {
     "name": "stdout",
     "output_type": "stream",
     "text": [
      "0.2617993877991494\n",
      "0.5235987755982988\n",
      "0.7853981633974483\n",
      "1.0471975511965976\n",
      "1.3089969389957472\n",
      "1.5707963267948966\n"
     ]
    }
   ],
   "source": [
    "angles = 15.0, 30.0, 45.0, 60.0, 75.0, 90.0\n",
    "\n",
    "for angle in angles:\n",
    "    print(degrees_to_radians(angle))"
   ]
  },
  {
   "cell_type": "code",
   "execution_count": 7,
   "metadata": {},
   "outputs": [
    {
     "name": "stdout",
     "output_type": "stream",
     "text": [
      "1\n",
      "2.3\n",
      "True\n",
      "<function degrees_to_radians at 0x000001CE0C49F490>\n"
     ]
    }
   ],
   "source": [
    "things = 1, 2.3, True, degrees_to_radians\n",
    "\n",
    "for thing in things:\n",
    "    print(thing)"
   ]
  },
  {
   "cell_type": "code",
   "execution_count": 8,
   "metadata": {},
   "outputs": [],
   "source": [
    "theta_d = 0.0\n",
    "\n",
    "while degrees_to_radians(theta_d) < 4.0:\n",
    "    theta_d = theta_d + 1.0"
   ]
  },
  {
   "cell_type": "code",
   "execution_count": 9,
   "metadata": {},
   "outputs": [
    {
     "name": "stdout",
     "output_type": "stream",
     "text": [
      "229.0\n",
      "230.0\n",
      "0.9992009967667537\n",
      "1.0035643198967394\n"
     ]
    }
   ],
   "source": [
    "print(theta_d - 1.0)\n",
    "print(theta_d)\n",
    "print(degrees_to_radians(theta_d-1.0) / 4.0)\n",
    "print(degrees_to_radians(theta_d) / 4.0)"
   ]
  },
  {
   "cell_type": "code",
   "execution_count": 10,
   "metadata": {},
   "outputs": [
    {
     "name": "stdout",
     "output_type": "stream",
     "text": [
      "True\n",
      "True\n",
      "True\n",
      "False\n",
      "True\n"
     ]
    }
   ],
   "source": [
    "print(True)\n",
    "print(6 < 7 and 10 > 9)\n",
    "print(1 < 2 or 1 < 0)\n",
    "print(not (6 < 7) and 10 > 9)\n",
    "print(6 < 7 < 8)"
   ]
  },
  {
   "cell_type": "markdown",
   "metadata": {},
   "source": [
    "### Containers and Sequences"
   ]
  },
  {
   "cell_type": "markdown",
   "metadata": {},
   "source": [
    "#### List"
   ]
  },
  {
   "cell_type": "code",
   "execution_count": 11,
   "metadata": {},
   "outputs": [],
   "source": [
    "list1 = [1, 2, 3, 4, 5, 6]\n",
    "list2 = [15.0, 30.0, 45.0, 60.0, 75.0, 90.0]\n",
    "list3 = [1, 2.3, True, degrees_to_radians]\n",
    "list4 = [\"hello\", list1, False]\n",
    "list5 = []"
   ]
  },
  {
   "cell_type": "code",
   "execution_count": 12,
   "metadata": {},
   "outputs": [
    {
     "data": {
      "text/plain": [
       "[1, 2, 3, 4, 5, 6]"
      ]
     },
     "execution_count": 12,
     "metadata": {},
     "output_type": "execute_result"
    }
   ],
   "source": [
    "list1"
   ]
  },
  {
   "cell_type": "code",
   "execution_count": 13,
   "metadata": {},
   "outputs": [
    {
     "data": {
      "text/plain": [
       "[15.0, 30.0, 45.0, 60.0, 75.0, 90.0]"
      ]
     },
     "execution_count": 13,
     "metadata": {},
     "output_type": "execute_result"
    }
   ],
   "source": [
    "list2"
   ]
  },
  {
   "cell_type": "markdown",
   "metadata": {},
   "source": [
    "Note: \n",
    "There is a big divide between programming languages that index containers (or vectors, or lists) starting from 0 and\n",
    "those that index starting from 1. There is no consensus on which is better, so as you move between languages, get\n",
    "used to checking which is used."
   ]
  },
  {
   "cell_type": "code",
   "execution_count": 14,
   "metadata": {},
   "outputs": [],
   "source": [
    "list4[1] = \"goodbye\""
   ]
  },
  {
   "cell_type": "code",
   "execution_count": 15,
   "metadata": {},
   "outputs": [
    {
     "data": {
      "text/plain": [
       "['hello', 'goodbye', False]"
      ]
     },
     "execution_count": 15,
     "metadata": {},
     "output_type": "execute_result"
    }
   ],
   "source": [
    "list4"
   ]
  },
  {
   "cell_type": "code",
   "execution_count": 16,
   "metadata": {},
   "outputs": [],
   "source": [
    "list4.append('end')"
   ]
  },
  {
   "cell_type": "code",
   "execution_count": 17,
   "metadata": {},
   "outputs": [
    {
     "data": {
      "text/plain": [
       "['hello', 'goodbye', False, 'end']"
      ]
     },
     "execution_count": 17,
     "metadata": {},
     "output_type": "execute_result"
    }
   ],
   "source": [
    "list4"
   ]
  },
  {
   "cell_type": "code",
   "execution_count": 18,
   "metadata": {},
   "outputs": [
    {
     "name": "stdout",
     "output_type": "stream",
     "text": [
      "end\n"
     ]
    },
    {
     "data": {
      "text/plain": [
       "['hello', 'goodbye', False]"
      ]
     },
     "execution_count": 18,
     "metadata": {},
     "output_type": "execute_result"
    }
   ],
   "source": [
    "entry = list4.pop()\n",
    "print(entry)\n",
    "list4"
   ]
  },
  {
   "cell_type": "code",
   "execution_count": 19,
   "metadata": {},
   "outputs": [
    {
     "data": {
      "text/plain": [
       "3"
      ]
     },
     "execution_count": 19,
     "metadata": {},
     "output_type": "execute_result"
    }
   ],
   "source": [
    "len(list4)"
   ]
  },
  {
   "cell_type": "markdown",
   "metadata": {},
   "source": [
    "#### Tuples"
   ]
  },
  {
   "cell_type": "code",
   "execution_count": 20,
   "metadata": {},
   "outputs": [],
   "source": [
    "tuple1 = 1, 2, 3, 4, 5, 6\n",
    "tuple2 = (15.0, 30.0, 45.0, 60.0, 75.0, 90.0)\n",
    "tuple3 = (1, 2.3, True, degrees_to_radians)\n",
    "tuple4 = (\"hello\", list1, False)\n",
    "tuple5 = ()\n",
    "tuple6 = (5,)"
   ]
  },
  {
   "cell_type": "code",
   "execution_count": 21,
   "metadata": {},
   "outputs": [
    {
     "data": {
      "text/plain": [
       "1"
      ]
     },
     "execution_count": 21,
     "metadata": {},
     "output_type": "execute_result"
    }
   ],
   "source": [
    "tuple1[0]"
   ]
  },
  {
   "cell_type": "code",
   "execution_count": 22,
   "metadata": {},
   "outputs": [
    {
     "ename": "TypeError",
     "evalue": "'tuple' object does not support item assignment",
     "output_type": "error",
     "traceback": [
      "\u001b[1;31m---------------------------------------------------------------------------\u001b[0m",
      "\u001b[1;31mTypeError\u001b[0m                                 Traceback (most recent call last)",
      "\u001b[1;32md:\\GIT-repository\\github-maths-with-python\\maths-with-python\\03-Loops-How-to-Repeat-Yourself.ipynb Cell 29\u001b[0m in \u001b[0;36m<cell line: 1>\u001b[1;34m()\u001b[0m\n\u001b[1;32m----> <a href='vscode-notebook-cell:/d%3A/GIT-repository/github-maths-with-python/maths-with-python/03-Loops-How-to-Repeat-Yourself.ipynb#X40sZmlsZQ%3D%3D?line=0'>1</a>\u001b[0m tuple4[\u001b[39m1\u001b[39m] \u001b[39m=\u001b[39m \u001b[39m'\u001b[39m\u001b[39mgoodbye\u001b[39m\u001b[39m'\u001b[39m\n",
      "\u001b[1;31mTypeError\u001b[0m: 'tuple' object does not support item assignment"
     ]
    }
   ],
   "source": [
    "tuple4[1] = 'goodbye'"
   ]
  },
  {
   "cell_type": "code",
   "execution_count": null,
   "metadata": {},
   "outputs": [],
   "source": [
    "print(tuple4[1])\n",
    "tuple4[1][1] = 33\n",
    "print(tuple4[1])"
   ]
  },
  {
   "cell_type": "code",
   "execution_count": null,
   "metadata": {},
   "outputs": [],
   "source": [
    "converted_list1 = list(tuple1)\n",
    "converted_tuple1 = tuple(list1)"
   ]
  },
  {
   "cell_type": "code",
   "execution_count": null,
   "metadata": {},
   "outputs": [],
   "source": [
    "list1 = [1, 2, 3, 4, 5, 6]\n",
    "print(list1[0])\n",
    "print(list1[1:3])\n",
    "print(list1[2:])\n",
    "print(list1[:4])"
   ]
  },
  {
   "cell_type": "code",
   "execution_count": null,
   "metadata": {},
   "outputs": [],
   "source": [
    "print(list1[0:6:2])\n",
    "print(list1[1::3])\n",
    "print(list1[4:1:-1])"
   ]
  },
  {
   "cell_type": "code",
   "execution_count": null,
   "metadata": {},
   "outputs": [],
   "source": [
    "print(list1[-1])\n",
    "print(list1[-2])\n",
    "print(list1[2:-2])\n",
    "print(list1[-4:-2])"
   ]
  },
  {
   "cell_type": "markdown",
   "metadata": {},
   "source": [
    "#### Unpacking"
   ]
  },
  {
   "cell_type": "code",
   "execution_count": null,
   "metadata": {},
   "outputs": [],
   "source": [
    "list_slice = [0, 0, 0, 0, 0, 0, 0, 0]\n",
    "list_slice[1:4] = list1[3:]\n",
    "print(list_slice)"
   ]
  },
  {
   "cell_type": "code",
   "execution_count": null,
   "metadata": {},
   "outputs": [],
   "source": [
    "a, b, c = list1[3:]\n",
    "print(a)\n",
    "print(b)\n",
    "print(c)"
   ]
  },
  {
   "cell_type": "code",
   "execution_count": null,
   "metadata": {},
   "outputs": [],
   "source": [
    "a, b = b, a\n",
    "print(a)\n",
    "print(b)"
   ]
  },
  {
   "cell_type": "markdown",
   "metadata": {},
   "source": [
    "#### Dictionares"
   ]
  },
  {
   "cell_type": "code",
   "execution_count": null,
   "metadata": {},
   "outputs": [],
   "source": [
    "from math import sin, cos, exp, log\n",
    "\n",
    "functions = {\"sine\" : sin,\n",
    "             \"cosine\" : cos,\n",
    "             \"exponential\" : exp,\n",
    "             \"logarithm\" : log}\n",
    "\n",
    "print(functions)"
   ]
  },
  {
   "cell_type": "code",
   "execution_count": null,
   "metadata": {},
   "outputs": [],
   "source": [
    "print(functions[\"exponential\"])"
   ]
  },
  {
   "cell_type": "code",
   "execution_count": null,
   "metadata": {},
   "outputs": [],
   "source": [
    "print(functions.keys())\n",
    "print(functions.values())"
   ]
  },
  {
   "cell_type": "code",
   "execution_count": null,
   "metadata": {},
   "outputs": [],
   "source": [
    "for name in functions:\n",
    "    print(\"The result of {}(1) is {}.\".format(name, functions[name](1.0)))"
   ]
  },
  {
   "cell_type": "code",
   "execution_count": null,
   "metadata": {},
   "outputs": [],
   "source": [
    "for name, function in functions.items():\n",
    "    print(\"The result of {}(1) is {}.\".format(name, function(1.0)))"
   ]
  },
  {
   "cell_type": "markdown",
   "metadata": {},
   "source": [
    "### Control Flow"
   ]
  },
  {
   "cell_type": "code",
   "execution_count": null,
   "metadata": {},
   "outputs": [],
   "source": [
    "theta_d = 5134.6\n",
    "theta_d_normalized = theta_d % 360.0\n",
    "print(theta_d_normalized)"
   ]
  },
  {
   "cell_type": "code",
   "execution_count": null,
   "metadata": {},
   "outputs": [],
   "source": [
    "from math import pi\n",
    "\n",
    "def check_angle_normalized(theta_d):\n",
    "    \"\"\"\n",
    "    Check that an angle lies within [0, 360] degrees.\n",
    "    \n",
    "    Parameters\n",
    "    ----------\n",
    "    \n",
    "    theta_d : float\n",
    "        The angle in degrees.\n",
    "    \n",
    "    Returns\n",
    "    -------\n",
    "    \n",
    "    normalized : Boolean\n",
    "        Whether the angle lies within the range\n",
    "    \"\"\"\n",
    "    normalized = True\n",
    "    \n",
    "    if theta_d > 360.0:\n",
    "        normalized = False\n",
    "        print(\"Input angle greater than 360 degrees. Did you mean this?\")\n",
    "    \n",
    "    if theta_d < 0.0:\n",
    "        normalized = False\n",
    "        print(\"Input angle less than 0 degrees. Did you mean this?\")\n",
    "    \n",
    "    return normalized"
   ]
  },
  {
   "cell_type": "code",
   "execution_count": null,
   "metadata": {},
   "outputs": [],
   "source": [
    "theta_d = 5134.6\n",
    "print(check_angle_normalized(theta_d))\n",
    "theta_d = -52.3\n",
    "print(check_angle_normalized(theta_d))"
   ]
  },
  {
   "cell_type": "code",
   "execution_count": null,
   "metadata": {},
   "outputs": [],
   "source": [
    "if (theta_d > 360.0) or (theta_d < 0.0):\n",
    "    normalized = False\n",
    "    print(\"Input angle outside [0, 360] degrees. Did you mean this?\")"
   ]
  },
  {
   "cell_type": "code",
   "execution_count": null,
   "metadata": {},
   "outputs": [],
   "source": [
    "from math import pi\n",
    "\n",
    "def check_angle_normalized(theta_d):\n",
    "    \"\"\"\n",
    "    Check that an angle lies within [0, 360] degrees.\n",
    "    \n",
    "    Parameters\n",
    "    ----------\n",
    "    \n",
    "    theta_d : float\n",
    "        The angle in degrees.\n",
    "    \n",
    "    Returns\n",
    "    -------\n",
    "    \n",
    "    normalized : Boolean\n",
    "        Whether the angle lies within the range\n",
    "        \n",
    "    \"\"\"\n",
    "    normalized = True\n",
    "    \n",
    "    if theta_d > 360.0:\n",
    "        normalized = False\n",
    "        print(\"Input angle greater than 360 degrees. Did you mean this?\")\n",
    "    \n",
    "    elif theta_d < 0.0:\n",
    "        normalized = False\n",
    "        print(\"Input angle less than 0 degrees. Did you mean this?\")\n",
    "    \n",
    "    else:\n",
    "        print(\"Input angle in range [0, 360] degrees. Good.\")\n",
    "    \n",
    "    return normalized"
   ]
  },
  {
   "cell_type": "code",
   "execution_count": null,
   "metadata": {},
   "outputs": [],
   "source": [
    "theta_d = 543.2\n",
    "print(check_angle_normalized(theta_d))\n",
    "theta_d = -123.4\n",
    "print(check_angle_normalized(theta_d))\n",
    "theta_d = 89.12\n",
    "print(check_angle_normalized(theta_d))"
   ]
  },
  {
   "cell_type": "code",
   "execution_count": null,
   "metadata": {},
   "outputs": [],
   "source": [
    "angles = [-123.4, 543.2, 89.12, 0.67, 5143.6, 30.0, 270.0]\n",
    "\n",
    "# We run through all the angles, but only print those that are\n",
    "# - in the range [0, 360], and\n",
    "# - if sin^2(angle) < 0.5\n",
    "\n",
    "from math import sin\n",
    "\n",
    "for angle in angles:\n",
    "    \n",
    "    print(\"Input angle in degrees:\", angle)\n",
    "    \n",
    "    if (check_angle_normalized(angle)):\n",
    "        angle_r = degrees_to_radians(angle)\n",
    "        \n",
    "        if (sin(angle_r)**2 < 0.5):\n",
    "            print(\"Valid angle in radians:\", angle_r)"
   ]
  },
  {
   "cell_type": "markdown",
   "metadata": {},
   "source": [
    "### Debugging"
   ]
  },
  {
   "cell_type": "markdown",
   "metadata": {},
   "source": [
    "#### Breakpoints"
   ]
  },
  {
   "cell_type": "code",
   "execution_count": null,
   "metadata": {},
   "outputs": [],
   "source": [
    "def test_sequence(N):\n",
    "    \"\"\"\n",
    "    Compute the infinite sum of 2^{-n} starting from n = 0, truncating\n",
    "    at n = N, returning the value of 2^{-n} and the truncated sum.\n",
    "    \n",
    "    Parameters\n",
    "    ----------\n",
    "    N : int\n",
    "    Positive integer, giving the number of terms in the sum\n",
    "    \n",
    "    Returns\n",
    "    -------\n",
    "    limit : float\n",
    "        The value of 2^{-N}\n",
    "    partial_sum : float\n",
    "        The value of the truncated sum\n",
    "    \n",
    "    Notes\n",
    "    -----\n",
    "    The limiting value should be zero, and the value of the sum should\n",
    "    converge to 2.\n",
    "    \"\"\"\n",
    "    \n",
    "    # Start sum from zero, so give zeroth term\n",
    "    limit = 1.0\n",
    "    partial_sum = 1.0\n",
    "    \n",
    "    # At each step, increment sum and change summand\n",
    "    for n in range(1, N+1):\n",
    "        partial_sum = partial_sum + limit\n",
    "        limit = limit / 2.0\n",
    "    \n",
    "    return limit, partial_sum\n",
    "\n",
    "if __name__ == '__main__':\n",
    "    print(test_sequence(50))"
   ]
  },
  {
   "cell_type": "code",
   "execution_count": null,
   "metadata": {},
   "outputs": [],
   "source": [
    "print(test_sequence(10))\n",
    "print(test_sequence(100))\n",
    "print(test_sequence(1000))"
   ]
  },
  {
   "cell_type": "markdown",
   "metadata": {},
   "source": [
    "### Exercises: Prime Numbers"
   ]
  },
  {
   "cell_type": "code",
   "execution_count": null,
   "metadata": {},
   "outputs": [],
   "source": []
  },
  {
   "cell_type": "code",
   "execution_count": 23,
   "metadata": {},
   "outputs": [
    {
     "name": "stdout",
     "output_type": "stream",
     "text": [
      "Author: Caique Miranda\n",
      "\n",
      "Github username: caiquemiranda\n",
      "\n",
      "sys: 3.10.5 (tags/v3.10.5:f377153, Jun  6 2022, 16:14:13) [MSC v.1929 64 bit (AMD64)]\n",
      "\n"
     ]
    }
   ],
   "source": [
    "%reload_ext watermark\n",
    "%watermark -a \"Caique Miranda\" -gu \"caiquemiranda\" -iv\n"
   ]
  },
  {
   "cell_type": "markdown",
   "metadata": {},
   "source": [
    "### End."
   ]
  }
 ],
 "metadata": {
  "kernelspec": {
   "display_name": "Python 3.10.5 64-bit",
   "language": "python",
   "name": "python3"
  },
  "language_info": {
   "codemirror_mode": {
    "name": "ipython",
    "version": 3
   },
   "file_extension": ".py",
   "mimetype": "text/x-python",
   "name": "python",
   "nbconvert_exporter": "python",
   "pygments_lexer": "ipython3",
   "version": "3.10.5"
  },
  "orig_nbformat": 4,
  "vscode": {
   "interpreter": {
    "hash": "74af3d2f25f1e46ebd2903d59225d79e4675ec224d56c01fc30cd168c2010d53"
   }
  }
 },
 "nbformat": 4,
 "nbformat_minor": 2
}
