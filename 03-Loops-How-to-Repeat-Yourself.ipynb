{
 "cells": [
  {
   "cell_type": "markdown",
   "metadata": {},
   "source": [
    "### Loops"
   ]
  },
  {
   "cell_type": "markdown",
   "metadata": {},
   "source": [
    "#### While loops"
   ]
  },
  {
   "cell_type": "code",
   "execution_count": 4,
   "metadata": {},
   "outputs": [],
   "source": [
    "from math import pi\n",
    "\n",
    "def degrees_to_radians(theta_d):\n",
    "    \"\"\"\n",
    "    Convert an angle from degrees to radians.\n",
    "    \n",
    "    Parameters\n",
    "    ----------\n",
    "    \n",
    "    theta_d : float\n",
    "        The angle in degrees.\n",
    "    \n",
    "    Returns\n",
    "    -------\n",
    "    \n",
    "    theta_r : float\n",
    "        The angle in radians.\n",
    "    \"\"\"\n",
    "\n",
    "    theta_r = pi / 180.0 * theta_d\n",
    "    return theta_r"
   ]
  },
  {
   "cell_type": "code",
   "execution_count": 5,
   "metadata": {},
   "outputs": [
    {
     "name": "stdout",
     "output_type": "stream",
     "text": [
      "0.0\n",
      "0.2617993877991494\n",
      "0.5235987755982988\n",
      "0.7853981633974483\n",
      "1.0471975511965976\n",
      "1.3089969389957472\n",
      "1.5707963267948966\n"
     ]
    }
   ],
   "source": [
    "theta_d = 0.0\n",
    "\n",
    "while theta_d <= 90.0:\n",
    "    print(degrees_to_radians(theta_d))\n",
    "    theta_d = theta_d + 15.0"
   ]
  },
  {
   "cell_type": "markdown",
   "metadata": {},
   "source": [
    "#### For loops"
   ]
  },
  {
   "cell_type": "code",
   "execution_count": 6,
   "metadata": {},
   "outputs": [
    {
     "name": "stdout",
     "output_type": "stream",
     "text": [
      "0.2617993877991494\n",
      "0.5235987755982988\n",
      "0.7853981633974483\n",
      "1.0471975511965976\n",
      "1.3089969389957472\n",
      "1.5707963267948966\n"
     ]
    }
   ],
   "source": [
    "steps = 1, 2, 3, 4, 5, 6\n",
    "\n",
    "for n in steps:\n",
    "    print(degrees_to_radians(15*n))"
   ]
  },
  {
   "cell_type": "code",
   "execution_count": 7,
   "metadata": {},
   "outputs": [
    {
     "name": "stdout",
     "output_type": "stream",
     "text": [
      "0.2617993877991494\n",
      "0.5235987755982988\n",
      "0.7853981633974483\n",
      "1.0471975511965976\n",
      "1.3089969389957472\n",
      "1.5707963267948966\n"
     ]
    }
   ],
   "source": [
    "for n in range(1,7):\n",
    "    print(degrees_to_radians(15*n))"
   ]
  },
  {
   "cell_type": "code",
   "execution_count": 8,
   "metadata": {},
   "outputs": [
    {
     "name": "stdout",
     "output_type": "stream",
     "text": [
      "[0, 1, 2, 3]\n",
      "[-1, 0, 1, 2]\n",
      "[1, 3, 5, 7, 9]\n"
     ]
    }
   ],
   "source": [
    "print(list(range(4)))\n",
    "print(list(range(-1,3)))\n",
    "print(list(range(1,10,2)))"
   ]
  },
  {
   "cell_type": "code",
   "execution_count": 9,
   "metadata": {},
   "outputs": [
    {
     "name": "stdout",
     "output_type": "stream",
     "text": [
      "0.2617993877991494\n",
      "0.5235987755982988\n",
      "0.7853981633974483\n",
      "1.0471975511965976\n",
      "1.3089969389957472\n",
      "1.5707963267948966\n"
     ]
    }
   ],
   "source": [
    "angles = 15.0, 30.0, 45.0, 60.0, 75.0, 90.0\n",
    "\n",
    "for angle in angles:\n",
    "    print(degrees_to_radians(angle))"
   ]
  },
  {
   "cell_type": "code",
   "execution_count": 10,
   "metadata": {},
   "outputs": [
    {
     "name": "stdout",
     "output_type": "stream",
     "text": [
      "1\n",
      "2.3\n",
      "True\n",
      "<function degrees_to_radians at 0x0000023C1F98ACB0>\n"
     ]
    }
   ],
   "source": [
    "things = 1, 2.3, True, degrees_to_radians\n",
    "\n",
    "for thing in things:\n",
    "    print(thing)"
   ]
  },
  {
   "cell_type": "code",
   "execution_count": 11,
   "metadata": {},
   "outputs": [],
   "source": [
    "theta_d = 0.0\n",
    "\n",
    "while degrees_to_radians(theta_d) < 4.0:\n",
    "    theta_d = theta_d + 1.0"
   ]
  },
  {
   "cell_type": "code",
   "execution_count": 12,
   "metadata": {},
   "outputs": [
    {
     "name": "stdout",
     "output_type": "stream",
     "text": [
      "229.0\n",
      "230.0\n",
      "0.9992009967667537\n",
      "1.0035643198967394\n"
     ]
    }
   ],
   "source": [
    "print(theta_d - 1.0)\n",
    "print(theta_d)\n",
    "print(degrees_to_radians(theta_d-1.0) / 4.0)\n",
    "print(degrees_to_radians(theta_d) / 4.0)"
   ]
  },
  {
   "cell_type": "code",
   "execution_count": 13,
   "metadata": {},
   "outputs": [
    {
     "name": "stdout",
     "output_type": "stream",
     "text": [
      "True\n",
      "True\n",
      "True\n",
      "False\n",
      "True\n"
     ]
    }
   ],
   "source": [
    "print(True)\n",
    "print(6 < 7 and 10 > 9)\n",
    "print(1 < 2 or 1 < 0)\n",
    "print(not (6 < 7) and 10 > 9)\n",
    "print(6 < 7 < 8)"
   ]
  },
  {
   "cell_type": "markdown",
   "metadata": {},
   "source": [
    "### Containers and Sequences"
   ]
  },
  {
   "cell_type": "code",
   "execution_count": null,
   "metadata": {},
   "outputs": [],
   "source": []
  },
  {
   "cell_type": "code",
   "execution_count": null,
   "metadata": {},
   "outputs": [],
   "source": []
  },
  {
   "cell_type": "code",
   "execution_count": null,
   "metadata": {},
   "outputs": [],
   "source": []
  },
  {
   "cell_type": "code",
   "execution_count": null,
   "metadata": {},
   "outputs": [],
   "source": []
  },
  {
   "cell_type": "markdown",
   "metadata": {},
   "source": [
    "### Control Flow"
   ]
  },
  {
   "cell_type": "markdown",
   "metadata": {},
   "source": [
    "### Debugging"
   ]
  },
  {
   "cell_type": "markdown",
   "metadata": {},
   "source": [
    "### Exercises: Prime Numbers"
   ]
  },
  {
   "cell_type": "markdown",
   "metadata": {},
   "source": [
    "### End."
   ]
  }
 ],
 "metadata": {
  "kernelspec": {
   "display_name": "Python 3.10.5 64-bit",
   "language": "python",
   "name": "python3"
  },
  "language_info": {
   "codemirror_mode": {
    "name": "ipython",
    "version": 3
   },
   "file_extension": ".py",
   "mimetype": "text/x-python",
   "name": "python",
   "nbconvert_exporter": "python",
   "pygments_lexer": "ipython3",
   "version": "3.10.5"
  },
  "orig_nbformat": 4,
  "vscode": {
   "interpreter": {
    "hash": "74af3d2f25f1e46ebd2903d59225d79e4675ec224d56c01fc30cd168c2010d53"
   }
  }
 },
 "nbformat": 4,
 "nbformat_minor": 2
}
